{
 "cells": [
  {
   "cell_type": "markdown",
   "metadata": {},
   "source": [
    "# Beer Dataset Challenge\n",
    "    presented By: Prerna Gaikwad"
   ]
  },
  {
   "cell_type": "markdown",
   "metadata": {},
   "source": [
    "# Content Details"
   ]
  },
  {
   "cell_type": "raw",
   "metadata": {},
   "source": [
    "1.Collecting Dataset\n",
    "2.Initial setup\n",
    "3.Data loading\n",
    "4.Data cleaning & preprocessing\n",
    "5.Solutions"
   ]
  },
  {
   "cell_type": "markdown",
   "metadata": {},
   "source": [
    "# 1.Collecting Dataset "
   ]
  },
  {
   "cell_type": "raw",
   "metadata": {},
   "source": [
    "For this exercise, you will be working with beer data which can be downloaded from here \n",
    "https://drive.google.com/open?id=1e-kyoB97a5tnE7X4T4Es4FHi4g6Trefq\n",
    "Unzip the file and you should see a CSV file, called “BeerDataScienceProject.csv”\n"
   ]
  },
  {
   "cell_type": "raw",
   "metadata": {},
   "source": [
    "The columns are as:\n",
    "1.beer_ABV : Alcohol by volume content of a beer\n",
    "2.beer_beerId : Unique ID for beer identification\n",
    "3.beer_brewerId : Unique ID identifying the brewer\n",
    "4.beer_name : Name of the beer\n",
    "5.beer_style : Beer Category\n",
    "6.review_appearance: Rating based on how the beer looks [Range : 1-5]\n",
    "7.review_palatte : Rating based on how the beer interacts with the palate [Range : 1-5]\n",
    "8.review_overall : Overall experience of the beer is combined in this rating [Range : 1-5]\n",
    "9.review_taste : Rating based on how the beer actually tastes [Range : 1-5]\n",
    "10.review_profileName: Reviewer’s profile name / user ID\n",
    "11.review_aroma : Rating based on how the beer smells [Range : 1-5]\n",
    "12.review_text : Review comments/observations in text format\n",
    "13.review_time : Time in UNIX format when review was recorded"
   ]
  },
  {
   "cell_type": "raw",
   "metadata": {},
   "source": [
    "Questions:\n",
    "\n",
    "\n",
    "    1. Rank top 3 Breweries which produce the strongest beers?\n",
    "    2. Which year did beers enjoy the highest ratings? \n",
    "    3.  Based on the user’s ratings which factors are important among taste, aroma, appearance, and palette?\n",
    "    4. If you were to recommend 3 beers to your friends based on this data which ones will you recommend?\n",
    "    5. Which Beer style seems to be the favorite based on reviews written by users? \n",
    "    6. How does written review compare to overall review score for the beer styles?\n",
    "    7. How do find similar beer drinkers by using written reviews only?   \n",
    "\n",
    "*Please include all plots you created to complete the project and to explain your results. "
   ]
  },
  {
   "cell_type": "raw",
   "metadata": {},
   "source": []
  },
  {
   "cell_type": "markdown",
   "metadata": {},
   "source": [
    "# 2. Initial Setup"
   ]
  },
  {
   "cell_type": "code",
   "execution_count": 4,
   "metadata": {},
   "outputs": [],
   "source": [
    "#Importing libraries for Data understanding\n",
    "import pandas as pd \n",
    "import numpy as np\n",
    "from datetime import datetime"
   ]
  },
  {
   "cell_type": "code",
   "execution_count": 5,
   "metadata": {},
   "outputs": [],
   "source": [
    "import warnings\n",
    "warnings.filterwarnings('ignore')"
   ]
  },
  {
   "cell_type": "code",
   "execution_count": 7,
   "metadata": {},
   "outputs": [],
   "source": [
    "#data loading\n",
    "beer_data=pd.read_csv(\"BeerDataScienceProject.csv\")"
   ]
  },
  {
   "cell_type": "code",
   "execution_count": 8,
   "metadata": {},
   "outputs": [],
   "source": [
    "beer_data=data.copy()"
   ]
  },
  {
   "cell_type": "code",
   "execution_count": 9,
   "metadata": {},
   "outputs": [],
   "source": [
    "# describe the dataset"
   ]
  },
  {
   "cell_type": "code",
   "execution_count": 10,
   "metadata": {},
   "outputs": [
    {
     "data": {
      "text/html": [
       "<div>\n",
       "<style scoped>\n",
       "    .dataframe tbody tr th:only-of-type {\n",
       "        vertical-align: middle;\n",
       "    }\n",
       "\n",
       "    .dataframe tbody tr th {\n",
       "        vertical-align: top;\n",
       "    }\n",
       "\n",
       "    .dataframe thead th {\n",
       "        text-align: right;\n",
       "    }\n",
       "</style>\n",
       "<table border=\"1\" class=\"dataframe\">\n",
       "  <thead>\n",
       "    <tr style=\"text-align: right;\">\n",
       "      <th></th>\n",
       "      <th>beer_ABV</th>\n",
       "      <th>beer_beerId</th>\n",
       "      <th>beer_brewerId</th>\n",
       "      <th>beer_name</th>\n",
       "      <th>beer_style</th>\n",
       "      <th>review_appearance</th>\n",
       "      <th>review_palette</th>\n",
       "      <th>review_overall</th>\n",
       "      <th>review_taste</th>\n",
       "      <th>review_profileName</th>\n",
       "      <th>review_aroma</th>\n",
       "      <th>review_text</th>\n",
       "      <th>review_time</th>\n",
       "    </tr>\n",
       "  </thead>\n",
       "  <tbody>\n",
       "    <tr>\n",
       "      <th>0</th>\n",
       "      <td>5.0</td>\n",
       "      <td>47986</td>\n",
       "      <td>10325</td>\n",
       "      <td>Sausa Weizen</td>\n",
       "      <td>Hefeweizen</td>\n",
       "      <td>2.5</td>\n",
       "      <td>2.0</td>\n",
       "      <td>1.5</td>\n",
       "      <td>1.5</td>\n",
       "      <td>stcules</td>\n",
       "      <td>1.5</td>\n",
       "      <td>A lot of foam. But a lot. In the smell some ba...</td>\n",
       "      <td>1234817823</td>\n",
       "    </tr>\n",
       "    <tr>\n",
       "      <th>1</th>\n",
       "      <td>6.2</td>\n",
       "      <td>48213</td>\n",
       "      <td>10325</td>\n",
       "      <td>Red Moon</td>\n",
       "      <td>English Strong Ale</td>\n",
       "      <td>3.0</td>\n",
       "      <td>2.5</td>\n",
       "      <td>3.0</td>\n",
       "      <td>3.0</td>\n",
       "      <td>stcules</td>\n",
       "      <td>3.0</td>\n",
       "      <td>Dark red color, light beige foam, average. In ...</td>\n",
       "      <td>1235915097</td>\n",
       "    </tr>\n",
       "    <tr>\n",
       "      <th>2</th>\n",
       "      <td>6.5</td>\n",
       "      <td>48215</td>\n",
       "      <td>10325</td>\n",
       "      <td>Black Horse Black Beer</td>\n",
       "      <td>Foreign / Export Stout</td>\n",
       "      <td>3.0</td>\n",
       "      <td>2.5</td>\n",
       "      <td>3.0</td>\n",
       "      <td>3.0</td>\n",
       "      <td>stcules</td>\n",
       "      <td>3.0</td>\n",
       "      <td>Almost totally black. Beige foam, quite compac...</td>\n",
       "      <td>1235916604</td>\n",
       "    </tr>\n",
       "    <tr>\n",
       "      <th>3</th>\n",
       "      <td>5.0</td>\n",
       "      <td>47969</td>\n",
       "      <td>10325</td>\n",
       "      <td>Sausa Pils</td>\n",
       "      <td>German Pilsener</td>\n",
       "      <td>3.5</td>\n",
       "      <td>3.0</td>\n",
       "      <td>3.0</td>\n",
       "      <td>2.5</td>\n",
       "      <td>stcules</td>\n",
       "      <td>3.0</td>\n",
       "      <td>Golden yellow color. White, compact foam, quit...</td>\n",
       "      <td>1234725145</td>\n",
       "    </tr>\n",
       "    <tr>\n",
       "      <th>4</th>\n",
       "      <td>7.7</td>\n",
       "      <td>64883</td>\n",
       "      <td>1075</td>\n",
       "      <td>Cauldron DIPA</td>\n",
       "      <td>American Double / Imperial IPA</td>\n",
       "      <td>4.0</td>\n",
       "      <td>4.5</td>\n",
       "      <td>4.0</td>\n",
       "      <td>4.0</td>\n",
       "      <td>johnmichaelsen</td>\n",
       "      <td>4.5</td>\n",
       "      <td>According to the website, the style for the Ca...</td>\n",
       "      <td>1293735206</td>\n",
       "    </tr>\n",
       "  </tbody>\n",
       "</table>\n",
       "</div>"
      ],
      "text/plain": [
       "   beer_ABV  beer_beerId  beer_brewerId               beer_name  \\\n",
       "0       5.0        47986          10325            Sausa Weizen   \n",
       "1       6.2        48213          10325                Red Moon   \n",
       "2       6.5        48215          10325  Black Horse Black Beer   \n",
       "3       5.0        47969          10325              Sausa Pils   \n",
       "4       7.7        64883           1075           Cauldron DIPA   \n",
       "\n",
       "                       beer_style  review_appearance  review_palette  \\\n",
       "0                      Hefeweizen                2.5             2.0   \n",
       "1              English Strong Ale                3.0             2.5   \n",
       "2          Foreign / Export Stout                3.0             2.5   \n",
       "3                 German Pilsener                3.5             3.0   \n",
       "4  American Double / Imperial IPA                4.0             4.5   \n",
       "\n",
       "   review_overall  review_taste review_profileName  review_aroma  \\\n",
       "0             1.5           1.5            stcules           1.5   \n",
       "1             3.0           3.0            stcules           3.0   \n",
       "2             3.0           3.0            stcules           3.0   \n",
       "3             3.0           2.5            stcules           3.0   \n",
       "4             4.0           4.0     johnmichaelsen           4.5   \n",
       "\n",
       "                                         review_text  review_time  \n",
       "0  A lot of foam. But a lot. In the smell some ba...   1234817823  \n",
       "1  Dark red color, light beige foam, average. In ...   1235915097  \n",
       "2  Almost totally black. Beige foam, quite compac...   1235916604  \n",
       "3  Golden yellow color. White, compact foam, quit...   1234725145  \n",
       "4  According to the website, the style for the Ca...   1293735206  "
      ]
     },
     "execution_count": 10,
     "metadata": {},
     "output_type": "execute_result"
    }
   ],
   "source": [
    "data.head(5)"
   ]
  },
  {
   "cell_type": "code",
   "execution_count": 11,
   "metadata": {},
   "outputs": [
    {
     "name": "stdout",
     "output_type": "stream",
     "text": [
      "<class 'pandas.core.frame.DataFrame'>\n",
      "RangeIndex: 528870 entries, 0 to 528869\n",
      "Data columns (total 13 columns):\n",
      " #   Column              Non-Null Count   Dtype  \n",
      "---  ------              --------------   -----  \n",
      " 0   beer_ABV            508590 non-null  float64\n",
      " 1   beer_beerId         528870 non-null  int64  \n",
      " 2   beer_brewerId       528870 non-null  int64  \n",
      " 3   beer_name           528870 non-null  object \n",
      " 4   beer_style          528870 non-null  object \n",
      " 5   review_appearance   528870 non-null  float64\n",
      " 6   review_palette      528870 non-null  float64\n",
      " 7   review_overall      528870 non-null  float64\n",
      " 8   review_taste        528870 non-null  float64\n",
      " 9   review_profileName  528755 non-null  object \n",
      " 10  review_aroma        528870 non-null  float64\n",
      " 11  review_text         528751 non-null  object \n",
      " 12  review_time         528870 non-null  int64  \n",
      "dtypes: float64(6), int64(3), object(4)\n",
      "memory usage: 52.5+ MB\n"
     ]
    }
   ],
   "source": [
    "data.info()"
   ]
  },
  {
   "cell_type": "code",
   "execution_count": 12,
   "metadata": {},
   "outputs": [
    {
     "data": {
      "text/plain": [
       "Index(['beer_ABV', 'beer_beerId', 'beer_brewerId', 'beer_name', 'beer_style',\n",
       "       'review_appearance', 'review_palette', 'review_overall', 'review_taste',\n",
       "       'review_profileName', 'review_aroma', 'review_text', 'review_time'],\n",
       "      dtype='object')"
      ]
     },
     "execution_count": 12,
     "metadata": {},
     "output_type": "execute_result"
    }
   ],
   "source": [
    "data.columns"
   ]
  },
  {
   "cell_type": "code",
   "execution_count": 13,
   "metadata": {},
   "outputs": [
    {
     "data": {
      "text/plain": [
       "(528870, 13)"
      ]
     },
     "execution_count": 13,
     "metadata": {},
     "output_type": "execute_result"
    }
   ],
   "source": [
    "data.shape"
   ]
  },
  {
   "cell_type": "code",
   "execution_count": 14,
   "metadata": {},
   "outputs": [],
   "source": [
    "# observation:\n",
    "#Dataset contains 528870 rows and 13 columns"
   ]
  },
  {
   "cell_type": "code",
   "execution_count": 15,
   "metadata": {},
   "outputs": [
    {
     "data": {
      "text/html": [
       "<div>\n",
       "<style scoped>\n",
       "    .dataframe tbody tr th:only-of-type {\n",
       "        vertical-align: middle;\n",
       "    }\n",
       "\n",
       "    .dataframe tbody tr th {\n",
       "        vertical-align: top;\n",
       "    }\n",
       "\n",
       "    .dataframe thead th {\n",
       "        text-align: right;\n",
       "    }\n",
       "</style>\n",
       "<table border=\"1\" class=\"dataframe\">\n",
       "  <thead>\n",
       "    <tr style=\"text-align: right;\">\n",
       "      <th></th>\n",
       "      <th>beer_ABV</th>\n",
       "      <th>beer_beerId</th>\n",
       "      <th>beer_brewerId</th>\n",
       "      <th>beer_name</th>\n",
       "      <th>beer_style</th>\n",
       "      <th>review_appearance</th>\n",
       "      <th>review_palette</th>\n",
       "      <th>review_overall</th>\n",
       "      <th>review_taste</th>\n",
       "      <th>review_profileName</th>\n",
       "      <th>review_aroma</th>\n",
       "      <th>review_text</th>\n",
       "      <th>review_time</th>\n",
       "    </tr>\n",
       "  </thead>\n",
       "  <tbody>\n",
       "    <tr>\n",
       "      <th>528865</th>\n",
       "      <td>NaN</td>\n",
       "      <td>4032</td>\n",
       "      <td>3340</td>\n",
       "      <td>Dinkel Acker Dark</td>\n",
       "      <td>Munich Dunkel Lager</td>\n",
       "      <td>4.0</td>\n",
       "      <td>3.0</td>\n",
       "      <td>4.0</td>\n",
       "      <td>3.5</td>\n",
       "      <td>orangemoustache</td>\n",
       "      <td>4.0</td>\n",
       "      <td>A-pours a reddish amber that looks very nice,l...</td>\n",
       "      <td>1205212721</td>\n",
       "    </tr>\n",
       "    <tr>\n",
       "      <th>528866</th>\n",
       "      <td>NaN</td>\n",
       "      <td>4032</td>\n",
       "      <td>3340</td>\n",
       "      <td>Dinkel Acker Dark</td>\n",
       "      <td>Munich Dunkel Lager</td>\n",
       "      <td>4.0</td>\n",
       "      <td>3.5</td>\n",
       "      <td>3.0</td>\n",
       "      <td>3.0</td>\n",
       "      <td>MisterStout</td>\n",
       "      <td>3.0</td>\n",
       "      <td>I don't really have anything special to say ab...</td>\n",
       "      <td>1203490783</td>\n",
       "    </tr>\n",
       "    <tr>\n",
       "      <th>528867</th>\n",
       "      <td>NaN</td>\n",
       "      <td>4032</td>\n",
       "      <td>3340</td>\n",
       "      <td>Dinkel Acker Dark</td>\n",
       "      <td>Munich Dunkel Lager</td>\n",
       "      <td>4.0</td>\n",
       "      <td>4.0</td>\n",
       "      <td>4.5</td>\n",
       "      <td>4.0</td>\n",
       "      <td>meechum</td>\n",
       "      <td>4.5</td>\n",
       "      <td>Had this on tap at Vreny's Beirgarten A - Came...</td>\n",
       "      <td>1201320897</td>\n",
       "    </tr>\n",
       "    <tr>\n",
       "      <th>528868</th>\n",
       "      <td>NaN</td>\n",
       "      <td>4032</td>\n",
       "      <td>3340</td>\n",
       "      <td>Dinkel Acker Dark</td>\n",
       "      <td>Munich Dunkel Lager</td>\n",
       "      <td>4.0</td>\n",
       "      <td>3.0</td>\n",
       "      <td>4.0</td>\n",
       "      <td>4.0</td>\n",
       "      <td>Dodo2step</td>\n",
       "      <td>4.5</td>\n",
       "      <td>Purchased at Market Cross Pub in carlisle, PA....</td>\n",
       "      <td>1201215290</td>\n",
       "    </tr>\n",
       "    <tr>\n",
       "      <th>528869</th>\n",
       "      <td>NaN</td>\n",
       "      <td>4032</td>\n",
       "      <td>3340</td>\n",
       "      <td>Dinkel Acker Dark</td>\n",
       "      <td>Munich Dunkel Lager</td>\n",
       "      <td>4.0</td>\n",
       "      <td>4.0</td>\n",
       "      <td>4.0</td>\n",
       "      <td>4.0</td>\n",
       "      <td>jenbys2001</td>\n",
       "      <td>4.0</td>\n",
       "      <td>I ordered a mug of this beer at Schnitzelhaus,...</td>\n",
       "      <td>1200336367</td>\n",
       "    </tr>\n",
       "  </tbody>\n",
       "</table>\n",
       "</div>"
      ],
      "text/plain": [
       "        beer_ABV  beer_beerId  beer_brewerId          beer_name  \\\n",
       "528865       NaN         4032           3340  Dinkel Acker Dark   \n",
       "528866       NaN         4032           3340  Dinkel Acker Dark   \n",
       "528867       NaN         4032           3340  Dinkel Acker Dark   \n",
       "528868       NaN         4032           3340  Dinkel Acker Dark   \n",
       "528869       NaN         4032           3340  Dinkel Acker Dark   \n",
       "\n",
       "                 beer_style  review_appearance  review_palette  \\\n",
       "528865  Munich Dunkel Lager                4.0             3.0   \n",
       "528866  Munich Dunkel Lager                4.0             3.5   \n",
       "528867  Munich Dunkel Lager                4.0             4.0   \n",
       "528868  Munich Dunkel Lager                4.0             3.0   \n",
       "528869  Munich Dunkel Lager                4.0             4.0   \n",
       "\n",
       "        review_overall  review_taste review_profileName  review_aroma  \\\n",
       "528865             4.0           3.5    orangemoustache           4.0   \n",
       "528866             3.0           3.0        MisterStout           3.0   \n",
       "528867             4.5           4.0            meechum           4.5   \n",
       "528868             4.0           4.0          Dodo2step           4.5   \n",
       "528869             4.0           4.0         jenbys2001           4.0   \n",
       "\n",
       "                                              review_text  review_time  \n",
       "528865  A-pours a reddish amber that looks very nice,l...   1205212721  \n",
       "528866  I don't really have anything special to say ab...   1203490783  \n",
       "528867  Had this on tap at Vreny's Beirgarten A - Came...   1201320897  \n",
       "528868  Purchased at Market Cross Pub in carlisle, PA....   1201215290  \n",
       "528869  I ordered a mug of this beer at Schnitzelhaus,...   1200336367  "
      ]
     },
     "execution_count": 15,
     "metadata": {},
     "output_type": "execute_result"
    }
   ],
   "source": [
    "data.tail(5)"
   ]
  },
  {
   "cell_type": "code",
   "execution_count": 16,
   "metadata": {},
   "outputs": [
    {
     "data": {
      "text/html": [
       "<div>\n",
       "<style scoped>\n",
       "    .dataframe tbody tr th:only-of-type {\n",
       "        vertical-align: middle;\n",
       "    }\n",
       "\n",
       "    .dataframe tbody tr th {\n",
       "        vertical-align: top;\n",
       "    }\n",
       "\n",
       "    .dataframe thead th {\n",
       "        text-align: right;\n",
       "    }\n",
       "</style>\n",
       "<table border=\"1\" class=\"dataframe\">\n",
       "  <thead>\n",
       "    <tr style=\"text-align: right;\">\n",
       "      <th></th>\n",
       "      <th>beer_ABV</th>\n",
       "      <th>beer_beerId</th>\n",
       "      <th>beer_brewerId</th>\n",
       "      <th>review_appearance</th>\n",
       "      <th>review_palette</th>\n",
       "      <th>review_overall</th>\n",
       "      <th>review_taste</th>\n",
       "      <th>review_aroma</th>\n",
       "      <th>review_time</th>\n",
       "    </tr>\n",
       "  </thead>\n",
       "  <tbody>\n",
       "    <tr>\n",
       "      <th>count</th>\n",
       "      <td>508590.000000</td>\n",
       "      <td>528870.000000</td>\n",
       "      <td>528870.000000</td>\n",
       "      <td>528870.000000</td>\n",
       "      <td>528870.000000</td>\n",
       "      <td>528870.000000</td>\n",
       "      <td>528870.000000</td>\n",
       "      <td>528870.000000</td>\n",
       "      <td>5.288700e+05</td>\n",
       "    </tr>\n",
       "    <tr>\n",
       "      <th>mean</th>\n",
       "      <td>7.017442</td>\n",
       "      <td>22098.466016</td>\n",
       "      <td>2598.423429</td>\n",
       "      <td>3.864522</td>\n",
       "      <td>3.758926</td>\n",
       "      <td>3.833197</td>\n",
       "      <td>3.765993</td>\n",
       "      <td>3.817350</td>\n",
       "      <td>1.224885e+09</td>\n",
       "    </tr>\n",
       "    <tr>\n",
       "      <th>std</th>\n",
       "      <td>2.204460</td>\n",
       "      <td>22158.284352</td>\n",
       "      <td>5281.805350</td>\n",
       "      <td>0.604010</td>\n",
       "      <td>0.685335</td>\n",
       "      <td>0.709962</td>\n",
       "      <td>0.669018</td>\n",
       "      <td>0.718903</td>\n",
       "      <td>7.605600e+07</td>\n",
       "    </tr>\n",
       "    <tr>\n",
       "      <th>min</th>\n",
       "      <td>0.010000</td>\n",
       "      <td>3.000000</td>\n",
       "      <td>1.000000</td>\n",
       "      <td>0.000000</td>\n",
       "      <td>1.000000</td>\n",
       "      <td>0.000000</td>\n",
       "      <td>1.000000</td>\n",
       "      <td>1.000000</td>\n",
       "      <td>8.843904e+08</td>\n",
       "    </tr>\n",
       "    <tr>\n",
       "      <th>25%</th>\n",
       "      <td>5.300000</td>\n",
       "      <td>1745.000000</td>\n",
       "      <td>132.000000</td>\n",
       "      <td>3.500000</td>\n",
       "      <td>3.500000</td>\n",
       "      <td>3.500000</td>\n",
       "      <td>3.500000</td>\n",
       "      <td>3.500000</td>\n",
       "      <td>1.174613e+09</td>\n",
       "    </tr>\n",
       "    <tr>\n",
       "      <th>50%</th>\n",
       "      <td>6.500000</td>\n",
       "      <td>14368.000000</td>\n",
       "      <td>394.000000</td>\n",
       "      <td>4.000000</td>\n",
       "      <td>4.000000</td>\n",
       "      <td>4.000000</td>\n",
       "      <td>4.000000</td>\n",
       "      <td>4.000000</td>\n",
       "      <td>1.240366e+09</td>\n",
       "    </tr>\n",
       "    <tr>\n",
       "      <th>75%</th>\n",
       "      <td>8.500000</td>\n",
       "      <td>40528.000000</td>\n",
       "      <td>1475.000000</td>\n",
       "      <td>4.000000</td>\n",
       "      <td>4.000000</td>\n",
       "      <td>4.500000</td>\n",
       "      <td>4.000000</td>\n",
       "      <td>4.500000</td>\n",
       "      <td>1.288560e+09</td>\n",
       "    </tr>\n",
       "    <tr>\n",
       "      <th>max</th>\n",
       "      <td>57.700000</td>\n",
       "      <td>77310.000000</td>\n",
       "      <td>27980.000000</td>\n",
       "      <td>5.000000</td>\n",
       "      <td>5.000000</td>\n",
       "      <td>5.000000</td>\n",
       "      <td>5.000000</td>\n",
       "      <td>5.000000</td>\n",
       "      <td>1.326277e+09</td>\n",
       "    </tr>\n",
       "  </tbody>\n",
       "</table>\n",
       "</div>"
      ],
      "text/plain": [
       "            beer_ABV    beer_beerId  beer_brewerId  review_appearance  \\\n",
       "count  508590.000000  528870.000000  528870.000000      528870.000000   \n",
       "mean        7.017442   22098.466016    2598.423429           3.864522   \n",
       "std         2.204460   22158.284352    5281.805350           0.604010   \n",
       "min         0.010000       3.000000       1.000000           0.000000   \n",
       "25%         5.300000    1745.000000     132.000000           3.500000   \n",
       "50%         6.500000   14368.000000     394.000000           4.000000   \n",
       "75%         8.500000   40528.000000    1475.000000           4.000000   \n",
       "max        57.700000   77310.000000   27980.000000           5.000000   \n",
       "\n",
       "       review_palette  review_overall   review_taste   review_aroma  \\\n",
       "count   528870.000000   528870.000000  528870.000000  528870.000000   \n",
       "mean         3.758926        3.833197       3.765993       3.817350   \n",
       "std          0.685335        0.709962       0.669018       0.718903   \n",
       "min          1.000000        0.000000       1.000000       1.000000   \n",
       "25%          3.500000        3.500000       3.500000       3.500000   \n",
       "50%          4.000000        4.000000       4.000000       4.000000   \n",
       "75%          4.000000        4.500000       4.000000       4.500000   \n",
       "max          5.000000        5.000000       5.000000       5.000000   \n",
       "\n",
       "        review_time  \n",
       "count  5.288700e+05  \n",
       "mean   1.224885e+09  \n",
       "std    7.605600e+07  \n",
       "min    8.843904e+08  \n",
       "25%    1.174613e+09  \n",
       "50%    1.240366e+09  \n",
       "75%    1.288560e+09  \n",
       "max    1.326277e+09  "
      ]
     },
     "execution_count": 16,
     "metadata": {},
     "output_type": "execute_result"
    }
   ],
   "source": [
    "#Analyzing the Statistical significance of Numeric features\n",
    "data.describe()"
   ]
  },
  {
   "cell_type": "code",
   "execution_count": 17,
   "metadata": {},
   "outputs": [
    {
     "data": {
      "text/html": [
       "<div>\n",
       "<style scoped>\n",
       "    .dataframe tbody tr th:only-of-type {\n",
       "        vertical-align: middle;\n",
       "    }\n",
       "\n",
       "    .dataframe tbody tr th {\n",
       "        vertical-align: top;\n",
       "    }\n",
       "\n",
       "    .dataframe thead th {\n",
       "        text-align: right;\n",
       "    }\n",
       "</style>\n",
       "<table border=\"1\" class=\"dataframe\">\n",
       "  <thead>\n",
       "    <tr style=\"text-align: right;\">\n",
       "      <th></th>\n",
       "      <th>beer_name</th>\n",
       "      <th>beer_style</th>\n",
       "      <th>review_profileName</th>\n",
       "      <th>review_text</th>\n",
       "    </tr>\n",
       "  </thead>\n",
       "  <tbody>\n",
       "    <tr>\n",
       "      <th>count</th>\n",
       "      <td>528870</td>\n",
       "      <td>528870</td>\n",
       "      <td>528755</td>\n",
       "      <td>528751</td>\n",
       "    </tr>\n",
       "    <tr>\n",
       "      <th>unique</th>\n",
       "      <td>18339</td>\n",
       "      <td>104</td>\n",
       "      <td>22800</td>\n",
       "      <td>528371</td>\n",
       "    </tr>\n",
       "    <tr>\n",
       "      <th>top</th>\n",
       "      <td>Sierra Nevada Celebration Ale</td>\n",
       "      <td>American IPA</td>\n",
       "      <td>northyorksammy</td>\n",
       "      <td>#NAME?</td>\n",
       "    </tr>\n",
       "    <tr>\n",
       "      <th>freq</th>\n",
       "      <td>3000</td>\n",
       "      <td>43369</td>\n",
       "      <td>1858</td>\n",
       "      <td>92</td>\n",
       "    </tr>\n",
       "  </tbody>\n",
       "</table>\n",
       "</div>"
      ],
      "text/plain": [
       "                            beer_name    beer_style review_profileName  \\\n",
       "count                          528870        528870             528755   \n",
       "unique                          18339           104              22800   \n",
       "top     Sierra Nevada Celebration Ale  American IPA     northyorksammy   \n",
       "freq                             3000         43369               1858   \n",
       "\n",
       "       review_text  \n",
       "count       528751  \n",
       "unique      528371  \n",
       "top         #NAME?  \n",
       "freq            92  "
      ]
     },
     "execution_count": 17,
     "metadata": {},
     "output_type": "execute_result"
    }
   ],
   "source": [
    "#Analyzing the Statistical significance of Non-Numeric(categorical)features\n",
    "data.describe(exclude=np.number)"
   ]
  },
  {
   "cell_type": "code",
   "execution_count": 19,
   "metadata": {},
   "outputs": [],
   "source": [
    "#Checking Unique Columns in Dataframe\n",
    "for col in data.columns:\n",
    "    if data[col].is_unique:\n",
    "        print(f'Unique Column : {col}')"
   ]
  },
  {
   "cell_type": "code",
   "execution_count": 20,
   "metadata": {},
   "outputs": [],
   "source": [
    "#Re-Setting the Indexes\n",
    "data=data.reset_index()"
   ]
  },
  {
   "cell_type": "code",
   "execution_count": 21,
   "metadata": {},
   "outputs": [
    {
     "data": {
      "text/plain": [
       "index                     0\n",
       "beer_ABV              20280\n",
       "beer_beerId               0\n",
       "beer_brewerId             0\n",
       "beer_name                 0\n",
       "beer_style                0\n",
       "review_appearance         0\n",
       "review_palette            0\n",
       "review_overall            0\n",
       "review_taste              0\n",
       "review_profileName      115\n",
       "review_aroma              0\n",
       "review_text             119\n",
       "review_time               0\n",
       "dtype: int64"
      ]
     },
     "execution_count": 21,
     "metadata": {},
     "output_type": "execute_result"
    }
   ],
   "source": [
    "#Checking the Null Counts\n",
    "data.isnull().sum()"
   ]
  },
  {
   "cell_type": "code",
   "execution_count": 22,
   "metadata": {},
   "outputs": [],
   "source": [
    "#Dropping the rows having null values\n",
    "\n",
    "data=data.dropna()"
   ]
  },
  {
   "cell_type": "code",
   "execution_count": 23,
   "metadata": {},
   "outputs": [
    {
     "data": {
      "text/plain": [
       "index                 0\n",
       "beer_ABV              0\n",
       "beer_beerId           0\n",
       "beer_brewerId         0\n",
       "beer_name             0\n",
       "beer_style            0\n",
       "review_appearance     0\n",
       "review_palette        0\n",
       "review_overall        0\n",
       "review_taste          0\n",
       "review_profileName    0\n",
       "review_aroma          0\n",
       "review_text           0\n",
       "review_time           0\n",
       "dtype: int64"
      ]
     },
     "execution_count": 23,
     "metadata": {},
     "output_type": "execute_result"
    }
   ],
   "source": [
    "data.isnull().sum()"
   ]
  },
  {
   "cell_type": "code",
   "execution_count": 24,
   "metadata": {},
   "outputs": [
    {
     "data": {
      "text/plain": [
       "(508358, 14)"
      ]
     },
     "execution_count": 24,
     "metadata": {},
     "output_type": "execute_result"
    }
   ],
   "source": [
    "data.shape"
   ]
  },
  {
   "cell_type": "code",
   "execution_count": 25,
   "metadata": {},
   "outputs": [
    {
     "name": "stdout",
     "output_type": "stream",
     "text": [
      "No. of unique values of beer names in the given data : 14028\n"
     ]
    }
   ],
   "source": [
    "print('No. of unique values of beer names in the given data :',data.beer_name.nunique(dropna=False))"
   ]
  },
  {
   "cell_type": "code",
   "execution_count": 26,
   "metadata": {},
   "outputs": [
    {
     "name": "stdout",
     "output_type": "stream",
     "text": [
      "No. of unique values of beer abv in the given data : 283\n"
     ]
    }
   ],
   "source": [
    "print('No. of unique values of beer abv in the given data :',data.beer_ABV.nunique(dropna=False))"
   ]
  },
  {
   "cell_type": "code",
   "execution_count": 27,
   "metadata": {},
   "outputs": [
    {
     "data": {
      "text/plain": [
       "Index(['index', 'beer_ABV', 'beer_beerId', 'beer_brewerId', 'beer_name',\n",
       "       'beer_style', 'review_appearance', 'review_palette', 'review_overall',\n",
       "       'review_taste', 'review_profileName', 'review_aroma', 'review_text',\n",
       "       'review_time'],\n",
       "      dtype='object')"
      ]
     },
     "execution_count": 27,
     "metadata": {},
     "output_type": "execute_result"
    }
   ],
   "source": [
    "#Removing the duplicated data\n",
    "#If a user has rated the same beer more than once, then only keep their highest rating and remove others.\n",
    "\n",
    "data.columns"
   ]
  },
  {
   "cell_type": "code",
   "execution_count": 28,
   "metadata": {},
   "outputs": [
    {
     "data": {
      "text/plain": [
       "0    stcules\n",
       "1    stcules\n",
       "Name: review_profileName, dtype: object"
      ]
     },
     "execution_count": 28,
     "metadata": {},
     "output_type": "execute_result"
    }
   ],
   "source": [
    "data.review_profileName.head(2)"
   ]
  },
  {
   "cell_type": "code",
   "execution_count": 29,
   "metadata": {},
   "outputs": [],
   "source": [
    "# Sort by \"review_overall\" in descending order\n",
    "\n",
    "data=data.sort_values('review_overall',ascending=False)"
   ]
  },
  {
   "cell_type": "code",
   "execution_count": 30,
   "metadata": {},
   "outputs": [],
   "source": [
    "# Keep the highest rating from each \"review_profilename\" and drop the rest\n",
    "\n",
    "data=data.drop_duplicates(subset=['review_profileName','beer_beerId'],keep='first')"
   ]
  },
  {
   "cell_type": "code",
   "execution_count": 31,
   "metadata": {},
   "outputs": [
    {
     "data": {
      "text/plain": [
       "(503700, 14)"
      ]
     },
     "execution_count": 31,
     "metadata": {},
     "output_type": "execute_result"
    }
   ],
   "source": [
    "#checking shape of non duplicate data. \n",
    "data.shape"
   ]
  },
  {
   "cell_type": "code",
   "execution_count": 32,
   "metadata": {},
   "outputs": [],
   "source": [
    "#Removing reviews with Ratings <= 0\n",
    "#Since ratings are on a scale of 1-5, any values in review variables that are less than 1 are not suitable for analysis.\n",
    "data=data[(data['review_overall']>0)]"
   ]
  },
  {
   "cell_type": "code",
   "execution_count": 33,
   "metadata": {},
   "outputs": [
    {
     "data": {
      "text/plain": [
       "(503697, 14)"
      ]
     },
     "execution_count": 33,
     "metadata": {},
     "output_type": "execute_result"
    }
   ],
   "source": [
    "data.shape"
   ]
  },
  {
   "cell_type": "code",
   "execution_count": 34,
   "metadata": {},
   "outputs": [],
   "source": [
    "#Univariate and Bivariate analysis of different features"
   ]
  },
  {
   "cell_type": "code",
   "execution_count": 35,
   "metadata": {},
   "outputs": [
    {
     "data": {
      "text/plain": [
       "<matplotlib.axes._subplots.AxesSubplot at 0x7ff97f763d30>"
      ]
     },
     "execution_count": 35,
     "metadata": {},
     "output_type": "execute_result"
    },
    {
     "data": {
      "image/png": "[encoded data removed]",
      "text/plain": [
       "<Figure size 1152x360 with 1 Axes>"
      ]
     },
     "metadata": {
      "needs_background": "light"
     },
     "output_type": "display_data"
    }
   ],
   "source": [
    "#beer_name\n",
    "data['beer_name'].value_counts().head(50).plot.bar(figsize=(16,5),title= 'Most Poular Beers by Name')"
   ]
  },
  {
   "cell_type": "code",
   "execution_count": 36,
   "metadata": {},
   "outputs": [
    {
     "data": {
      "text/plain": [
       "<matplotlib.axes._subplots.AxesSubplot at 0x7ff9840e01f0>"
      ]
     },
     "execution_count": 36,
     "metadata": {},
     "output_type": "execute_result"
    },
    {
     "data": {
      "image/png": "[encoded data removed]",
      "text/plain": [
       "<Figure size 1152x360 with 1 Axes>"
      ]
     },
     "metadata": {
      "needs_background": "light"
     },
     "output_type": "display_data"
    }
   ],
   "source": [
    "#Beer style\n",
    "\n",
    "data['beer_style'].value_counts().head(50).plot.bar(figsize=(16,5),title= 'Most Poular Beers by Style')\n"
   ]
  },
  {
   "cell_type": "code",
   "execution_count": 38,
   "metadata": {},
   "outputs": [],
   "source": [
    "import seaborn as sns\n",
    "import matplotlib.pyplot as plt"
   ]
  },
  {
   "cell_type": "code",
   "execution_count": 40,
   "metadata": {},
   "outputs": [
    {
     "data": {
      "image/png": "[encoded data removed]",
      "text/plain": [
       "<Figure size 864x360 with 1 Axes>"
      ]
     },
     "metadata": {
      "needs_background": "light"
     },
     "output_type": "display_data"
    }
   ],
   "source": [
    "#Beer ABV\n",
    "plt.figure(figsize=(12,5))\n",
    "sns.distplot(data['beer_ABV'],bins = 50)\n",
    "plt.xlabel(\"Alcohol By Volume\")\n",
    "plt.show()"
   ]
  },
  {
   "cell_type": "code",
   "execution_count": 42,
   "metadata": {},
   "outputs": [
    {
     "data": {
      "image/png": "[encoded data removed]",
      "text/plain": [
       "<Figure size 1152x360 with 2 Axes>"
      ]
     },
     "metadata": {
      "needs_background": "light"
     },
     "output_type": "display_data"
    }
   ],
   "source": [
    "#Review Overall\n",
    "\n",
    "plt.figure(figsize=(16,5))\n",
    "\n",
    "plt.subplot(121) \n",
    "sns.distplot(data.review_overall,bins=50)\n",
    "\n",
    "plt.subplot(122) \n",
    "data['review_overall'].plot.box(title= 'review_overall') \n",
    "\n",
    "plt.tight_layout()\n",
    "plt.show()"
   ]
  },
  {
   "cell_type": "code",
   "execution_count": 43,
   "metadata": {},
   "outputs": [
    {
     "data": {
      "image/png": "[encoded data removed]",
      "text/plain": [
       "<Figure size 1152x864 with 12 Axes>"
      ]
     },
     "metadata": {
      "needs_background": "light"
     },
     "output_type": "display_data"
    }
   ],
   "source": [
    "# Plotting Histograms to display the PDF of all the numeric type features in this dataset. \n",
    "\n",
    "data.hist(bins = 15,figsize=(16,12))\n",
    "plt.show()"
   ]
  },
  {
   "cell_type": "raw",
   "metadata": {},
   "source": []
  },
  {
   "cell_type": "markdown",
   "metadata": {},
   "source": [
    "# Solution"
   ]
  },
  {
   "cell_type": "raw",
   "metadata": {},
   "source": [
    "\n",
    "#Q1.Rank top 3 Breweries which produce the strongest beers?\n"
   ]
  },
  {
   "cell_type": "code",
   "execution_count": 44,
   "metadata": {},
   "outputs": [],
   "source": [
    "#Extracting the relevant columns into new dataframe to use it futher.\n",
    "abv_data = data[['beer_brewerId','beer_beerId','beer_name','beer_ABV']]"
   ]
  },
  {
   "cell_type": "code",
   "execution_count": 45,
   "metadata": {},
   "outputs": [
    {
     "data": {
      "text/html": [
       "<div>\n",
       "<style scoped>\n",
       "    .dataframe tbody tr th:only-of-type {\n",
       "        vertical-align: middle;\n",
       "    }\n",
       "\n",
       "    .dataframe tbody tr th {\n",
       "        vertical-align: top;\n",
       "    }\n",
       "\n",
       "    .dataframe thead th {\n",
       "        text-align: right;\n",
       "    }\n",
       "</style>\n",
       "<table border=\"1\" class=\"dataframe\">\n",
       "  <thead>\n",
       "    <tr style=\"text-align: right;\">\n",
       "      <th></th>\n",
       "      <th>beer_brewerId</th>\n",
       "      <th>beer_beerId</th>\n",
       "      <th>beer_name</th>\n",
       "      <th>beer_ABV</th>\n",
       "    </tr>\n",
       "  </thead>\n",
       "  <tbody>\n",
       "    <tr>\n",
       "      <th>492945</th>\n",
       "      <td>132</td>\n",
       "      <td>1339</td>\n",
       "      <td>Hazelnut Brown Nectar</td>\n",
       "      <td>6.2</td>\n",
       "    </tr>\n",
       "    <tr>\n",
       "      <th>172728</th>\n",
       "      <td>221</td>\n",
       "      <td>689</td>\n",
       "      <td>Red Stripe Jamaican Lager</td>\n",
       "      <td>4.7</td>\n",
       "    </tr>\n",
       "    <tr>\n",
       "      <th>409699</th>\n",
       "      <td>694</td>\n",
       "      <td>15881</td>\n",
       "      <td>Tr�egs Nugget Nectar</td>\n",
       "      <td>7.5</td>\n",
       "    </tr>\n",
       "    <tr>\n",
       "      <th>517331</th>\n",
       "      <td>113</td>\n",
       "      <td>571</td>\n",
       "      <td>Samuel Smith's Oatmeal Stout</td>\n",
       "      <td>5.0</td>\n",
       "    </tr>\n",
       "    <tr>\n",
       "      <th>172704</th>\n",
       "      <td>221</td>\n",
       "      <td>689</td>\n",
       "      <td>Red Stripe Jamaican Lager</td>\n",
       "      <td>4.7</td>\n",
       "    </tr>\n",
       "  </tbody>\n",
       "</table>\n",
       "</div>"
      ],
      "text/plain": [
       "        beer_brewerId  beer_beerId                     beer_name  beer_ABV\n",
       "492945            132         1339         Hazelnut Brown Nectar       6.2\n",
       "172728            221          689     Red Stripe Jamaican Lager       4.7\n",
       "409699            694        15881          Tr�egs Nugget Nectar       7.5\n",
       "517331            113          571  Samuel Smith's Oatmeal Stout       5.0\n",
       "172704            221          689     Red Stripe Jamaican Lager       4.7"
      ]
     },
     "execution_count": 45,
     "metadata": {},
     "output_type": "execute_result"
    }
   ],
   "source": [
    "abv_data.head(5)"
   ]
  },
  {
   "cell_type": "code",
   "execution_count": 46,
   "metadata": {},
   "outputs": [
    {
     "data": {
      "text/plain": [
       "(503697, 4)"
      ]
     },
     "execution_count": 46,
     "metadata": {},
     "output_type": "execute_result"
    }
   ],
   "source": [
    "abv_data.shape"
   ]
  },
  {
   "cell_type": "code",
   "execution_count": 47,
   "metadata": {},
   "outputs": [],
   "source": [
    "#Applying aggregations over a \"beer_ABV\" with resoect to \"beer_brewerId\" and \"beer_beerId\"\n",
    "aggrAbvdf = abv_data.groupby(['beer_brewerId','beer_beerId']).agg({'beer_ABV':[np.size,np.mean]})"
   ]
  },
  {
   "cell_type": "code",
   "execution_count": 48,
   "metadata": {},
   "outputs": [
    {
     "data": {
      "text/html": [
       "<div>\n",
       "<style scoped>\n",
       "    .dataframe tbody tr th:only-of-type {\n",
       "        vertical-align: middle;\n",
       "    }\n",
       "\n",
       "    .dataframe tbody tr th {\n",
       "        vertical-align: top;\n",
       "    }\n",
       "\n",
       "    .dataframe thead tr th {\n",
       "        text-align: left;\n",
       "    }\n",
       "\n",
       "    .dataframe thead tr:last-of-type th {\n",
       "        text-align: right;\n",
       "    }\n",
       "</style>\n",
       "<table border=\"1\" class=\"dataframe\">\n",
       "  <thead>\n",
       "    <tr>\n",
       "      <th></th>\n",
       "      <th></th>\n",
       "      <th colspan=\"2\" halign=\"left\">beer_ABV</th>\n",
       "    </tr>\n",
       "    <tr>\n",
       "      <th></th>\n",
       "      <th></th>\n",
       "      <th>size</th>\n",
       "      <th>mean</th>\n",
       "    </tr>\n",
       "    <tr>\n",
       "      <th>beer_brewerId</th>\n",
       "      <th>beer_beerId</th>\n",
       "      <th></th>\n",
       "      <th></th>\n",
       "    </tr>\n",
       "  </thead>\n",
       "  <tbody>\n",
       "    <tr>\n",
       "      <th rowspan=\"5\" valign=\"top\">1</th>\n",
       "      <th>429</th>\n",
       "      <td>1220.0</td>\n",
       "      <td>4.4</td>\n",
       "    </tr>\n",
       "    <tr>\n",
       "      <th>5916</th>\n",
       "      <td>46.0</td>\n",
       "      <td>5.0</td>\n",
       "    </tr>\n",
       "    <tr>\n",
       "      <th>14348</th>\n",
       "      <td>6.0</td>\n",
       "      <td>5.0</td>\n",
       "    </tr>\n",
       "    <tr>\n",
       "      <th>19099</th>\n",
       "      <td>4.0</td>\n",
       "      <td>4.2</td>\n",
       "    </tr>\n",
       "    <tr>\n",
       "      <th>19123</th>\n",
       "      <td>7.0</td>\n",
       "      <td>4.1</td>\n",
       "    </tr>\n",
       "  </tbody>\n",
       "</table>\n",
       "</div>"
      ],
      "text/plain": [
       "                          beer_ABV     \n",
       "                              size mean\n",
       "beer_brewerId beer_beerId              \n",
       "1             429           1220.0  4.4\n",
       "              5916            46.0  5.0\n",
       "              14348            6.0  5.0\n",
       "              19099            4.0  4.2\n",
       "              19123            7.0  4.1"
      ]
     },
     "execution_count": 48,
     "metadata": {},
     "output_type": "execute_result"
    }
   ],
   "source": [
    "aggrAbvdf.head(5)\n",
    "# Here, the size is corresponds to the number of review logged per unique beer_beerId and\n",
    "# the mean value tells the mean of the beer_ABV value recorder in the review"
   ]
  },
  {
   "cell_type": "code",
   "execution_count": 49,
   "metadata": {},
   "outputs": [],
   "source": [
    "# Now aggregating on a brewery level i.e 'beer_ABV' mean for each brewery\n",
    "beer_ABVmeanDf = aggrAbvdf.groupby(level='beer_brewerId').mean()\n",
    "beer_ABVmeanDf.columns = ('mean_size','mean_beer_ABV')"
   ]
  },
  {
   "cell_type": "code",
   "execution_count": 50,
   "metadata": {},
   "outputs": [
    {
     "data": {
      "text/html": [
       "<div>\n",
       "<style scoped>\n",
       "    .dataframe tbody tr th:only-of-type {\n",
       "        vertical-align: middle;\n",
       "    }\n",
       "\n",
       "    .dataframe tbody tr th {\n",
       "        vertical-align: top;\n",
       "    }\n",
       "\n",
       "    .dataframe thead th {\n",
       "        text-align: right;\n",
       "    }\n",
       "</style>\n",
       "<table border=\"1\" class=\"dataframe\">\n",
       "  <thead>\n",
       "    <tr style=\"text-align: right;\">\n",
       "      <th></th>\n",
       "      <th>mean_size</th>\n",
       "      <th>mean_beer_ABV</th>\n",
       "    </tr>\n",
       "    <tr>\n",
       "      <th>beer_brewerId</th>\n",
       "      <th></th>\n",
       "      <th></th>\n",
       "    </tr>\n",
       "  </thead>\n",
       "  <tbody>\n",
       "    <tr>\n",
       "      <th>1</th>\n",
       "      <td>101.538462</td>\n",
       "      <td>4.876923</td>\n",
       "    </tr>\n",
       "    <tr>\n",
       "      <th>3</th>\n",
       "      <td>123.425000</td>\n",
       "      <td>6.237500</td>\n",
       "    </tr>\n",
       "    <tr>\n",
       "      <th>5</th>\n",
       "      <td>69.000000</td>\n",
       "      <td>4.837500</td>\n",
       "    </tr>\n",
       "    <tr>\n",
       "      <th>10</th>\n",
       "      <td>14.000000</td>\n",
       "      <td>4.625000</td>\n",
       "    </tr>\n",
       "    <tr>\n",
       "      <th>14</th>\n",
       "      <td>8.983871</td>\n",
       "      <td>6.588710</td>\n",
       "    </tr>\n",
       "  </tbody>\n",
       "</table>\n",
       "</div>"
      ],
      "text/plain": [
       "                mean_size  mean_beer_ABV\n",
       "beer_brewerId                           \n",
       "1              101.538462       4.876923\n",
       "3              123.425000       6.237500\n",
       "5               69.000000       4.837500\n",
       "10              14.000000       4.625000\n",
       "14               8.983871       6.588710"
      ]
     },
     "execution_count": 50,
     "metadata": {},
     "output_type": "execute_result"
    }
   ],
   "source": [
    "beer_ABVmeanDf.head(5)"
   ]
  },
  {
   "cell_type": "code",
   "execution_count": 51,
   "metadata": {},
   "outputs": [],
   "source": [
    "#dropping the column 'mean_size' and sorting the dataframe in descending order\n",
    "sorted_beer_ABVmeanDf = beer_ABVmeanDf.drop('mean_size',1).sort_values('mean_beer_ABV',ascending=False).reset_index()"
   ]
  },
  {
   "cell_type": "code",
   "execution_count": 52,
   "metadata": {},
   "outputs": [
    {
     "data": {
      "text/plain": [
       "<matplotlib.axes._subplots.AxesSubplot at 0x7ff9813de850>"
      ]
     },
     "execution_count": 52,
     "metadata": {},
     "output_type": "execute_result"
    },
    {
     "data": {
      "image/png": "[encoded data removed]",
      "text/plain": [
       "<Figure size 432x288 with 1 Axes>"
      ]
     },
     "metadata": {
      "needs_background": "light"
     },
     "output_type": "display_data"
    }
   ],
   "source": [
    "import seaborn as sns\n",
    "import matplotlib.pyplot as plt\n",
    "sns.boxplot(data=sorted_beer_ABVmeanDf['mean_beer_ABV'])"
   ]
  },
  {
   "cell_type": "code",
   "execution_count": 53,
   "metadata": {},
   "outputs": [],
   "source": [
    "#Observations :\n",
    "   # 1. From the above visualization, we can see that the most of the breweries brew around 6% beer_ABV.\n",
    "    #2. The box plot plot shows the anomalous value of around 25% for beer_brewerId \"6513\" which is far greater than mean beer_ABV\n",
    "    #3. We can’t rule out the slight possibility that the actual strongest beer is one with a null value in column \"beer_ABV\"."
   ]
  },
  {
   "cell_type": "code",
   "execution_count": 54,
   "metadata": {},
   "outputs": [
    {
     "data": {
      "text/html": [
       "<div>\n",
       "<style scoped>\n",
       "    .dataframe tbody tr th:only-of-type {\n",
       "        vertical-align: middle;\n",
       "    }\n",
       "\n",
       "    .dataframe tbody tr th {\n",
       "        vertical-align: top;\n",
       "    }\n",
       "\n",
       "    .dataframe thead th {\n",
       "        text-align: right;\n",
       "    }\n",
       "</style>\n",
       "<table border=\"1\" class=\"dataframe\">\n",
       "  <thead>\n",
       "    <tr style=\"text-align: right;\">\n",
       "      <th></th>\n",
       "      <th>beer_brewerId</th>\n",
       "      <th>mean_beer_ABV</th>\n",
       "    </tr>\n",
       "  </thead>\n",
       "  <tbody>\n",
       "    <tr>\n",
       "      <th>0</th>\n",
       "      <td>6513</td>\n",
       "      <td>24.690000</td>\n",
       "    </tr>\n",
       "    <tr>\n",
       "      <th>1</th>\n",
       "      <td>736</td>\n",
       "      <td>13.500000</td>\n",
       "    </tr>\n",
       "    <tr>\n",
       "      <th>2</th>\n",
       "      <td>24215</td>\n",
       "      <td>12.466667</td>\n",
       "    </tr>\n",
       "  </tbody>\n",
       "</table>\n",
       "</div>"
      ],
      "text/plain": [
       "   beer_brewerId  mean_beer_ABV\n",
       "0           6513      24.690000\n",
       "1            736      13.500000\n",
       "2          24215      12.466667"
      ]
     },
     "execution_count": 54,
     "metadata": {},
     "output_type": "execute_result"
    }
   ],
   "source": [
    "sorted_beer_ABVmeanDf.head(3)"
   ]
  },
  {
   "cell_type": "code",
   "execution_count": 55,
   "metadata": {},
   "outputs": [],
   "source": [
    "# observation\n",
    "#above are the top 3 Breweries producing strongest beers considering anomalous value of 24.69% for brewery \"6513\""
   ]
  },
  {
   "cell_type": "raw",
   "metadata": {},
   "source": []
  },
  {
   "cell_type": "raw",
   "metadata": {},
   "source": [
    "# Q2 : Which year did beers enjoy the highest ratings ?"
   ]
  },
  {
   "cell_type": "code",
   "execution_count": 56,
   "metadata": {},
   "outputs": [
    {
     "data": {
      "text/html": [
       "<div>\n",
       "<style scoped>\n",
       "    .dataframe tbody tr th:only-of-type {\n",
       "        vertical-align: middle;\n",
       "    }\n",
       "\n",
       "    .dataframe tbody tr th {\n",
       "        vertical-align: top;\n",
       "    }\n",
       "\n",
       "    .dataframe thead th {\n",
       "        text-align: right;\n",
       "    }\n",
       "</style>\n",
       "<table border=\"1\" class=\"dataframe\">\n",
       "  <thead>\n",
       "    <tr style=\"text-align: right;\">\n",
       "      <th></th>\n",
       "      <th>index</th>\n",
       "      <th>beer_ABV</th>\n",
       "      <th>beer_beerId</th>\n",
       "      <th>beer_brewerId</th>\n",
       "      <th>beer_name</th>\n",
       "      <th>beer_style</th>\n",
       "      <th>review_appearance</th>\n",
       "      <th>review_palette</th>\n",
       "      <th>review_overall</th>\n",
       "      <th>review_taste</th>\n",
       "      <th>review_profileName</th>\n",
       "      <th>review_aroma</th>\n",
       "      <th>review_text</th>\n",
       "      <th>review_time</th>\n",
       "    </tr>\n",
       "  </thead>\n",
       "  <tbody>\n",
       "    <tr>\n",
       "      <th>492945</th>\n",
       "      <td>492945</td>\n",
       "      <td>6.2</td>\n",
       "      <td>1339</td>\n",
       "      <td>132</td>\n",
       "      <td>Hazelnut Brown Nectar</td>\n",
       "      <td>American Brown Ale</td>\n",
       "      <td>4.5</td>\n",
       "      <td>3.0</td>\n",
       "      <td>5.0</td>\n",
       "      <td>4.5</td>\n",
       "      <td>prosper</td>\n",
       "      <td>5.0</td>\n",
       "      <td>Served at ~15C. Gorgeous pour. Nut brown, slig...</td>\n",
       "      <td>1221003321</td>\n",
       "    </tr>\n",
       "    <tr>\n",
       "      <th>172728</th>\n",
       "      <td>172728</td>\n",
       "      <td>4.7</td>\n",
       "      <td>689</td>\n",
       "      <td>221</td>\n",
       "      <td>Red Stripe Jamaican Lager</td>\n",
       "      <td>American Adjunct Lager</td>\n",
       "      <td>5.0</td>\n",
       "      <td>3.0</td>\n",
       "      <td>5.0</td>\n",
       "      <td>4.5</td>\n",
       "      <td>AussieInPhilly</td>\n",
       "      <td>4.0</td>\n",
       "      <td>This beer is tops. The crisp, yet smooth taste...</td>\n",
       "      <td>1129192511</td>\n",
       "    </tr>\n",
       "  </tbody>\n",
       "</table>\n",
       "</div>"
      ],
      "text/plain": [
       "         index  beer_ABV  beer_beerId  beer_brewerId  \\\n",
       "492945  492945       6.2         1339            132   \n",
       "172728  172728       4.7          689            221   \n",
       "\n",
       "                        beer_name              beer_style  review_appearance  \\\n",
       "492945      Hazelnut Brown Nectar      American Brown Ale                4.5   \n",
       "172728  Red Stripe Jamaican Lager  American Adjunct Lager                5.0   \n",
       "\n",
       "        review_palette  review_overall  review_taste review_profileName  \\\n",
       "492945             3.0             5.0           4.5            prosper   \n",
       "172728             3.0             5.0           4.5     AussieInPhilly   \n",
       "\n",
       "        review_aroma                                        review_text  \\\n",
       "492945           5.0  Served at ~15C. Gorgeous pour. Nut brown, slig...   \n",
       "172728           4.0  This beer is tops. The crisp, yet smooth taste...   \n",
       "\n",
       "        review_time  \n",
       "492945   1221003321  \n",
       "172728   1129192511  "
      ]
     },
     "execution_count": 56,
     "metadata": {},
     "output_type": "execute_result"
    }
   ],
   "source": [
    "data.head(2)"
   ]
  },
  {
   "cell_type": "code",
   "execution_count": 57,
   "metadata": {},
   "outputs": [
    {
     "data": {
      "text/plain": [
       "Index(['index', 'beer_ABV', 'beer_beerId', 'beer_brewerId', 'beer_name',\n",
       "       'beer_style', 'review_appearance', 'review_palette', 'review_overall',\n",
       "       'review_taste', 'review_profileName', 'review_aroma', 'review_text',\n",
       "       'review_time'],\n",
       "      dtype='object')"
      ]
     },
     "execution_count": 57,
     "metadata": {},
     "output_type": "execute_result"
    }
   ],
   "source": [
    "data.columns"
   ]
  },
  {
   "cell_type": "code",
   "execution_count": 58,
   "metadata": {},
   "outputs": [],
   "source": [
    "#Extracting the relevant columns into new dataframe to use it futher.\n",
    "review_data=data[['beer_beerId','beer_name','review_overall','review_time']]"
   ]
  },
  {
   "cell_type": "code",
   "execution_count": 59,
   "metadata": {},
   "outputs": [],
   "source": [
    "review_data['review_year']=review_data.apply(lambda row: datetime.utcfromtimestamp(row.review_time).strftime(\"%Y\"), axis=1)"
   ]
  },
  {
   "cell_type": "code",
   "execution_count": 60,
   "metadata": {},
   "outputs": [],
   "source": [
    "review_data=review_data.reset_index(drop=True)"
   ]
  },
  {
   "cell_type": "code",
   "execution_count": 61,
   "metadata": {},
   "outputs": [
    {
     "data": {
      "text/html": [
       "<div>\n",
       "<style scoped>\n",
       "    .dataframe tbody tr th:only-of-type {\n",
       "        vertical-align: middle;\n",
       "    }\n",
       "\n",
       "    .dataframe tbody tr th {\n",
       "        vertical-align: top;\n",
       "    }\n",
       "\n",
       "    .dataframe thead th {\n",
       "        text-align: right;\n",
       "    }\n",
       "</style>\n",
       "<table border=\"1\" class=\"dataframe\">\n",
       "  <thead>\n",
       "    <tr style=\"text-align: right;\">\n",
       "      <th></th>\n",
       "      <th>beer_beerId</th>\n",
       "      <th>beer_name</th>\n",
       "      <th>review_overall</th>\n",
       "      <th>review_time</th>\n",
       "      <th>review_year</th>\n",
       "    </tr>\n",
       "  </thead>\n",
       "  <tbody>\n",
       "    <tr>\n",
       "      <th>0</th>\n",
       "      <td>1339</td>\n",
       "      <td>Hazelnut Brown Nectar</td>\n",
       "      <td>5.0</td>\n",
       "      <td>1221003321</td>\n",
       "      <td>2008</td>\n",
       "    </tr>\n",
       "    <tr>\n",
       "      <th>1</th>\n",
       "      <td>689</td>\n",
       "      <td>Red Stripe Jamaican Lager</td>\n",
       "      <td>5.0</td>\n",
       "      <td>1129192511</td>\n",
       "      <td>2005</td>\n",
       "    </tr>\n",
       "    <tr>\n",
       "      <th>2</th>\n",
       "      <td>15881</td>\n",
       "      <td>Tr�egs Nugget Nectar</td>\n",
       "      <td>5.0</td>\n",
       "      <td>1235006981</td>\n",
       "      <td>2009</td>\n",
       "    </tr>\n",
       "    <tr>\n",
       "      <th>3</th>\n",
       "      <td>571</td>\n",
       "      <td>Samuel Smith's Oatmeal Stout</td>\n",
       "      <td>5.0</td>\n",
       "      <td>1203476701</td>\n",
       "      <td>2008</td>\n",
       "    </tr>\n",
       "    <tr>\n",
       "      <th>4</th>\n",
       "      <td>689</td>\n",
       "      <td>Red Stripe Jamaican Lager</td>\n",
       "      <td>5.0</td>\n",
       "      <td>1135296352</td>\n",
       "      <td>2005</td>\n",
       "    </tr>\n",
       "  </tbody>\n",
       "</table>\n",
       "</div>"
      ],
      "text/plain": [
       "   beer_beerId                     beer_name  review_overall  review_time  \\\n",
       "0         1339         Hazelnut Brown Nectar             5.0   1221003321   \n",
       "1          689     Red Stripe Jamaican Lager             5.0   1129192511   \n",
       "2        15881          Tr�egs Nugget Nectar             5.0   1235006981   \n",
       "3          571  Samuel Smith's Oatmeal Stout             5.0   1203476701   \n",
       "4          689     Red Stripe Jamaican Lager             5.0   1135296352   \n",
       "\n",
       "  review_year  \n",
       "0        2008  \n",
       "1        2005  \n",
       "2        2009  \n",
       "3        2008  \n",
       "4        2005  "
      ]
     },
     "execution_count": 61,
     "metadata": {},
     "output_type": "execute_result"
    }
   ],
   "source": [
    "review_data.head(5)\n"
   ]
  },
  {
   "cell_type": "code",
   "execution_count": 62,
   "metadata": {},
   "outputs": [],
   "source": [
    "aggrreview_data=review_data.groupby(['review_year'],as_index=False)['review_overall'].agg('mean')"
   ]
  },
  {
   "cell_type": "code",
   "execution_count": 64,
   "metadata": {},
   "outputs": [
    {
     "data": {
      "text/html": [
       "<div>\n",
       "<style scoped>\n",
       "    .dataframe tbody tr th:only-of-type {\n",
       "        vertical-align: middle;\n",
       "    }\n",
       "\n",
       "    .dataframe tbody tr th {\n",
       "        vertical-align: top;\n",
       "    }\n",
       "\n",
       "    .dataframe thead th {\n",
       "        text-align: right;\n",
       "    }\n",
       "</style>\n",
       "<table border=\"1\" class=\"dataframe\">\n",
       "  <thead>\n",
       "    <tr style=\"text-align: right;\">\n",
       "      <th></th>\n",
       "      <th>review_year</th>\n",
       "      <th>review_overall</th>\n",
       "    </tr>\n",
       "  </thead>\n",
       "  <tbody>\n",
       "    <tr>\n",
       "      <th>0</th>\n",
       "      <td>1998</td>\n",
       "      <td>4.045455</td>\n",
       "    </tr>\n",
       "    <tr>\n",
       "      <th>1</th>\n",
       "      <td>1999</td>\n",
       "      <td>4.000000</td>\n",
       "    </tr>\n",
       "    <tr>\n",
       "      <th>2</th>\n",
       "      <td>2000</td>\n",
       "      <td>4.241379</td>\n",
       "    </tr>\n",
       "    <tr>\n",
       "      <th>3</th>\n",
       "      <td>2001</td>\n",
       "      <td>3.963687</td>\n",
       "    </tr>\n",
       "    <tr>\n",
       "      <th>4</th>\n",
       "      <td>2002</td>\n",
       "      <td>3.822060</td>\n",
       "    </tr>\n",
       "  </tbody>\n",
       "</table>\n",
       "</div>"
      ],
      "text/plain": [
       "  review_year  review_overall\n",
       "0        1998        4.045455\n",
       "1        1999        4.000000\n",
       "2        2000        4.241379\n",
       "3        2001        3.963687\n",
       "4        2002        3.822060"
      ]
     },
     "execution_count": 64,
     "metadata": {},
     "output_type": "execute_result"
    }
   ],
   "source": [
    "aggrreview_data.head(5)"
   ]
  },
  {
   "cell_type": "code",
   "execution_count": 65,
   "metadata": {},
   "outputs": [],
   "source": [
    "# sorting the dataframe in desceding order"
   ]
  },
  {
   "cell_type": "code",
   "execution_count": 66,
   "metadata": {},
   "outputs": [],
   "source": [
    "aggrreview_data=aggrreview_data.sort_values(by=['review_overall'],ascending=False)"
   ]
  },
  {
   "cell_type": "code",
   "execution_count": 67,
   "metadata": {},
   "outputs": [
    {
     "data": {
      "text/html": [
       "<div>\n",
       "<style scoped>\n",
       "    .dataframe tbody tr th:only-of-type {\n",
       "        vertical-align: middle;\n",
       "    }\n",
       "\n",
       "    .dataframe tbody tr th {\n",
       "        vertical-align: top;\n",
       "    }\n",
       "\n",
       "    .dataframe thead th {\n",
       "        text-align: right;\n",
       "    }\n",
       "</style>\n",
       "<table border=\"1\" class=\"dataframe\">\n",
       "  <thead>\n",
       "    <tr style=\"text-align: right;\">\n",
       "      <th></th>\n",
       "      <th>review_year</th>\n",
       "      <th>review_overall</th>\n",
       "    </tr>\n",
       "  </thead>\n",
       "  <tbody>\n",
       "    <tr>\n",
       "      <th>2</th>\n",
       "      <td>2000</td>\n",
       "      <td>4.241379</td>\n",
       "    </tr>\n",
       "    <tr>\n",
       "      <th>0</th>\n",
       "      <td>1998</td>\n",
       "      <td>4.045455</td>\n",
       "    </tr>\n",
       "    <tr>\n",
       "      <th>1</th>\n",
       "      <td>1999</td>\n",
       "      <td>4.000000</td>\n",
       "    </tr>\n",
       "    <tr>\n",
       "      <th>3</th>\n",
       "      <td>2001</td>\n",
       "      <td>3.963687</td>\n",
       "    </tr>\n",
       "    <tr>\n",
       "      <th>12</th>\n",
       "      <td>2010</td>\n",
       "      <td>3.869730</td>\n",
       "    </tr>\n",
       "  </tbody>\n",
       "</table>\n",
       "</div>"
      ],
      "text/plain": [
       "   review_year  review_overall\n",
       "2         2000        4.241379\n",
       "0         1998        4.045455\n",
       "1         1999        4.000000\n",
       "3         2001        3.963687\n",
       "12        2010        3.869730"
      ]
     },
     "execution_count": 67,
     "metadata": {},
     "output_type": "execute_result"
    }
   ],
   "source": [
    "aggrreview_data.head(5)"
   ]
  },
  {
   "cell_type": "code",
   "execution_count": 68,
   "metadata": {},
   "outputs": [
    {
     "data": {
      "image/png": "[encoded data removed]",
      "text/plain": [
       "<Figure size 432x288 with 1 Axes>"
      ]
     },
     "metadata": {
      "needs_background": "light"
     },
     "output_type": "display_data"
    }
   ],
   "source": [
    "import matplotlib.pyplot as plt\n",
    "fig=plt.figure()\n",
    "ax=fig.add_axes([0,0,1,1])\n",
    "ax.bar(aggrreview_data.review_year,aggrreview_data.review_overall)\n",
    "plt.show()"
   ]
  },
  {
   "cell_type": "code",
   "execution_count": 69,
   "metadata": {},
   "outputs": [],
   "source": [
    "#Observation :\n",
    "   # 1. Observing above bar plot we can say that o year '2000' beer enjoys higest overall ratings of \"4.241379\"\n"
   ]
  },
  {
   "cell_type": "raw",
   "metadata": {},
   "source": []
  },
  {
   "cell_type": "raw",
   "metadata": {},
   "source": [
    "#Q3 : Based on the user’s ratings which factors are important among taste, aroma, appearance, and palette?"
   ]
  },
  {
   "cell_type": "code",
   "execution_count": 70,
   "metadata": {},
   "outputs": [
    {
     "data": {
      "text/plain": [
       "Index(['index', 'beer_ABV', 'beer_beerId', 'beer_brewerId', 'beer_name',\n",
       "       'beer_style', 'review_appearance', 'review_palette', 'review_overall',\n",
       "       'review_taste', 'review_profileName', 'review_aroma', 'review_text',\n",
       "       'review_time'],\n",
       "      dtype='object')"
      ]
     },
     "execution_count": 70,
     "metadata": {},
     "output_type": "execute_result"
    }
   ],
   "source": [
    "data.columns"
   ]
  },
  {
   "cell_type": "code",
   "execution_count": 71,
   "metadata": {},
   "outputs": [],
   "source": [
    "beerratings_df=data[['beer_beerId','review_appearance','review_palette','review_taste','review_aroma','review_overall']]"
   ]
  },
  {
   "cell_type": "code",
   "execution_count": 72,
   "metadata": {},
   "outputs": [
    {
     "data": {
      "text/html": [
       "<div>\n",
       "<style scoped>\n",
       "    .dataframe tbody tr th:only-of-type {\n",
       "        vertical-align: middle;\n",
       "    }\n",
       "\n",
       "    .dataframe tbody tr th {\n",
       "        vertical-align: top;\n",
       "    }\n",
       "\n",
       "    .dataframe thead th {\n",
       "        text-align: right;\n",
       "    }\n",
       "</style>\n",
       "<table border=\"1\" class=\"dataframe\">\n",
       "  <thead>\n",
       "    <tr style=\"text-align: right;\">\n",
       "      <th></th>\n",
       "      <th>beer_beerId</th>\n",
       "      <th>review_appearance</th>\n",
       "      <th>review_palette</th>\n",
       "      <th>review_taste</th>\n",
       "      <th>review_aroma</th>\n",
       "      <th>review_overall</th>\n",
       "    </tr>\n",
       "  </thead>\n",
       "  <tbody>\n",
       "    <tr>\n",
       "      <th>492945</th>\n",
       "      <td>1339</td>\n",
       "      <td>4.5</td>\n",
       "      <td>3.0</td>\n",
       "      <td>4.5</td>\n",
       "      <td>5.0</td>\n",
       "      <td>5.0</td>\n",
       "    </tr>\n",
       "    <tr>\n",
       "      <th>172728</th>\n",
       "      <td>689</td>\n",
       "      <td>5.0</td>\n",
       "      <td>3.0</td>\n",
       "      <td>4.5</td>\n",
       "      <td>4.0</td>\n",
       "      <td>5.0</td>\n",
       "    </tr>\n",
       "    <tr>\n",
       "      <th>409699</th>\n",
       "      <td>15881</td>\n",
       "      <td>4.0</td>\n",
       "      <td>4.0</td>\n",
       "      <td>4.5</td>\n",
       "      <td>4.5</td>\n",
       "      <td>5.0</td>\n",
       "    </tr>\n",
       "    <tr>\n",
       "      <th>517331</th>\n",
       "      <td>571</td>\n",
       "      <td>4.5</td>\n",
       "      <td>4.5</td>\n",
       "      <td>4.5</td>\n",
       "      <td>4.5</td>\n",
       "      <td>5.0</td>\n",
       "    </tr>\n",
       "    <tr>\n",
       "      <th>172704</th>\n",
       "      <td>689</td>\n",
       "      <td>3.0</td>\n",
       "      <td>3.5</td>\n",
       "      <td>4.0</td>\n",
       "      <td>5.0</td>\n",
       "      <td>5.0</td>\n",
       "    </tr>\n",
       "  </tbody>\n",
       "</table>\n",
       "</div>"
      ],
      "text/plain": [
       "        beer_beerId  review_appearance  review_palette  review_taste  \\\n",
       "492945         1339                4.5             3.0           4.5   \n",
       "172728          689                5.0             3.0           4.5   \n",
       "409699        15881                4.0             4.0           4.5   \n",
       "517331          571                4.5             4.5           4.5   \n",
       "172704          689                3.0             3.5           4.0   \n",
       "\n",
       "        review_aroma  review_overall  \n",
       "492945           5.0             5.0  \n",
       "172728           4.0             5.0  \n",
       "409699           4.5             5.0  \n",
       "517331           4.5             5.0  \n",
       "172704           5.0             5.0  "
      ]
     },
     "execution_count": 72,
     "metadata": {},
     "output_type": "execute_result"
    }
   ],
   "source": [
    "beerratings_df.head(5)"
   ]
  },
  {
   "cell_type": "code",
   "execution_count": 73,
   "metadata": {},
   "outputs": [],
   "source": [
    "beerratingsaggr_df=beerratings_df.groupby('beer_beerId').agg(\n",
    "       {'beer_beerId':'count',\n",
    "        'review_aroma':'mean',\n",
    "        'review_taste':'mean',\n",
    "        'review_appearance':'mean',\n",
    "        'review_palette':'mean',\n",
    "        'review_overall':'mean'})\n",
    "beerratingsaggr_df.columns =('beer_beerId_count','review_aroma','review_taste','review_appearance','review_palette','review_overall')"
   ]
  },
  {
   "cell_type": "code",
   "execution_count": 74,
   "metadata": {},
   "outputs": [
    {
     "data": {
      "text/html": [
       "<div>\n",
       "<style scoped>\n",
       "    .dataframe tbody tr th:only-of-type {\n",
       "        vertical-align: middle;\n",
       "    }\n",
       "\n",
       "    .dataframe tbody tr th {\n",
       "        vertical-align: top;\n",
       "    }\n",
       "\n",
       "    .dataframe thead th {\n",
       "        text-align: right;\n",
       "    }\n",
       "</style>\n",
       "<table border=\"1\" class=\"dataframe\">\n",
       "  <thead>\n",
       "    <tr style=\"text-align: right;\">\n",
       "      <th></th>\n",
       "      <th>beer_beerId_count</th>\n",
       "      <th>review_aroma</th>\n",
       "      <th>review_taste</th>\n",
       "      <th>review_appearance</th>\n",
       "      <th>review_palette</th>\n",
       "      <th>review_overall</th>\n",
       "    </tr>\n",
       "    <tr>\n",
       "      <th>beer_beerId</th>\n",
       "      <th></th>\n",
       "      <th></th>\n",
       "      <th></th>\n",
       "      <th></th>\n",
       "      <th></th>\n",
       "      <th></th>\n",
       "    </tr>\n",
       "  </thead>\n",
       "  <tbody>\n",
       "    <tr>\n",
       "      <th>5</th>\n",
       "      <td>420</td>\n",
       "      <td>3.342857</td>\n",
       "      <td>3.323810</td>\n",
       "      <td>3.488095</td>\n",
       "      <td>3.208333</td>\n",
       "      <td>3.554762</td>\n",
       "    </tr>\n",
       "    <tr>\n",
       "      <th>6</th>\n",
       "      <td>871</td>\n",
       "      <td>3.645809</td>\n",
       "      <td>3.514351</td>\n",
       "      <td>3.839839</td>\n",
       "      <td>3.517222</td>\n",
       "      <td>3.709529</td>\n",
       "    </tr>\n",
       "    <tr>\n",
       "      <th>7</th>\n",
       "      <td>655</td>\n",
       "      <td>3.103817</td>\n",
       "      <td>3.110687</td>\n",
       "      <td>3.251145</td>\n",
       "      <td>3.178626</td>\n",
       "      <td>3.271756</td>\n",
       "    </tr>\n",
       "    <tr>\n",
       "      <th>8</th>\n",
       "      <td>68</td>\n",
       "      <td>3.235294</td>\n",
       "      <td>3.301471</td>\n",
       "      <td>3.294118</td>\n",
       "      <td>3.080882</td>\n",
       "      <td>3.647059</td>\n",
       "    </tr>\n",
       "    <tr>\n",
       "      <th>9</th>\n",
       "      <td>116</td>\n",
       "      <td>3.043103</td>\n",
       "      <td>3.103448</td>\n",
       "      <td>3.051724</td>\n",
       "      <td>2.853448</td>\n",
       "      <td>3.400862</td>\n",
       "    </tr>\n",
       "  </tbody>\n",
       "</table>\n",
       "</div>"
      ],
      "text/plain": [
       "             beer_beerId_count  review_aroma  review_taste  review_appearance  \\\n",
       "beer_beerId                                                                     \n",
       "5                          420      3.342857      3.323810           3.488095   \n",
       "6                          871      3.645809      3.514351           3.839839   \n",
       "7                          655      3.103817      3.110687           3.251145   \n",
       "8                           68      3.235294      3.301471           3.294118   \n",
       "9                          116      3.043103      3.103448           3.051724   \n",
       "\n",
       "             review_palette  review_overall  \n",
       "beer_beerId                                  \n",
       "5                  3.208333        3.554762  \n",
       "6                  3.517222        3.709529  \n",
       "7                  3.178626        3.271756  \n",
       "8                  3.080882        3.647059  \n",
       "9                  2.853448        3.400862  "
      ]
     },
     "execution_count": 74,
     "metadata": {},
     "output_type": "execute_result"
    }
   ],
   "source": [
    "beerratingsaggr_df.head(5)"
   ]
  },
  {
   "cell_type": "code",
   "execution_count": 75,
   "metadata": {},
   "outputs": [],
   "source": [
    "# Lets observe the correlation between columns.\n",
    "# Calculate the Pearson's correlation coeff and plot a heatmap."
   ]
  },
  {
   "cell_type": "code",
   "execution_count": 76,
   "metadata": {},
   "outputs": [],
   "source": [
    "corvals=beerratingsaggr_df.corr()"
   ]
  },
  {
   "cell_type": "code",
   "execution_count": 77,
   "metadata": {},
   "outputs": [],
   "source": [
    "corvals=corvals.iloc[1:6,1:6]"
   ]
  },
  {
   "cell_type": "code",
   "execution_count": 78,
   "metadata": {},
   "outputs": [
    {
     "data": {
      "text/html": [
       "<div>\n",
       "<style scoped>\n",
       "    .dataframe tbody tr th:only-of-type {\n",
       "        vertical-align: middle;\n",
       "    }\n",
       "\n",
       "    .dataframe tbody tr th {\n",
       "        vertical-align: top;\n",
       "    }\n",
       "\n",
       "    .dataframe thead th {\n",
       "        text-align: right;\n",
       "    }\n",
       "</style>\n",
       "<table border=\"1\" class=\"dataframe\">\n",
       "  <thead>\n",
       "    <tr style=\"text-align: right;\">\n",
       "      <th></th>\n",
       "      <th>review_aroma</th>\n",
       "      <th>review_taste</th>\n",
       "      <th>review_appearance</th>\n",
       "      <th>review_palette</th>\n",
       "      <th>review_overall</th>\n",
       "    </tr>\n",
       "  </thead>\n",
       "  <tbody>\n",
       "    <tr>\n",
       "      <th>review_aroma</th>\n",
       "      <td>1.000000</td>\n",
       "      <td>0.835014</td>\n",
       "      <td>0.660198</td>\n",
       "      <td>0.825980</td>\n",
       "      <td>0.883830</td>\n",
       "    </tr>\n",
       "    <tr>\n",
       "      <th>review_taste</th>\n",
       "      <td>0.835014</td>\n",
       "      <td>1.000000</td>\n",
       "      <td>0.682245</td>\n",
       "      <td>0.756271</td>\n",
       "      <td>0.823196</td>\n",
       "    </tr>\n",
       "    <tr>\n",
       "      <th>review_appearance</th>\n",
       "      <td>0.660198</td>\n",
       "      <td>0.682245</td>\n",
       "      <td>1.000000</td>\n",
       "      <td>0.669227</td>\n",
       "      <td>0.637603</td>\n",
       "    </tr>\n",
       "    <tr>\n",
       "      <th>review_palette</th>\n",
       "      <td>0.825980</td>\n",
       "      <td>0.756271</td>\n",
       "      <td>0.669227</td>\n",
       "      <td>1.000000</td>\n",
       "      <td>0.766905</td>\n",
       "    </tr>\n",
       "    <tr>\n",
       "      <th>review_overall</th>\n",
       "      <td>0.883830</td>\n",
       "      <td>0.823196</td>\n",
       "      <td>0.637603</td>\n",
       "      <td>0.766905</td>\n",
       "      <td>1.000000</td>\n",
       "    </tr>\n",
       "  </tbody>\n",
       "</table>\n",
       "</div>"
      ],
      "text/plain": [
       "                   review_aroma  review_taste  review_appearance  \\\n",
       "review_aroma           1.000000      0.835014           0.660198   \n",
       "review_taste           0.835014      1.000000           0.682245   \n",
       "review_appearance      0.660198      0.682245           1.000000   \n",
       "review_palette         0.825980      0.756271           0.669227   \n",
       "review_overall         0.883830      0.823196           0.637603   \n",
       "\n",
       "                   review_palette  review_overall  \n",
       "review_aroma             0.825980        0.883830  \n",
       "review_taste             0.756271        0.823196  \n",
       "review_appearance        0.669227        0.637603  \n",
       "review_palette           1.000000        0.766905  \n",
       "review_overall           0.766905        1.000000  "
      ]
     },
     "execution_count": 78,
     "metadata": {},
     "output_type": "execute_result"
    }
   ],
   "source": [
    "corvals"
   ]
  },
  {
   "cell_type": "code",
   "execution_count": 79,
   "metadata": {},
   "outputs": [],
   "source": [
    "#masking the upper diagonal matrix\n",
    "uppermask = np.zeros_like(corvals,dtype=np.bool)"
   ]
  },
  {
   "cell_type": "code",
   "execution_count": 80,
   "metadata": {},
   "outputs": [],
   "source": [
    "uppermask[np.triu_indices_from(uppermask,k=1)] = True"
   ]
  },
  {
   "cell_type": "code",
   "execution_count": 82,
   "metadata": {},
   "outputs": [
    {
     "data": {
      "image/png": "[encoded data removed]",
      "text/plain": [
       "<Figure size 432x288 with 2 Axes>"
      ]
     },
     "metadata": {
      "needs_background": "light"
     },
     "output_type": "display_data"
    }
   ],
   "source": [
    "#plotting heatmap\n",
    "sns.heatmap(corvals,mask=uppermask,annot=True,linewidths=.3)\n",
    "plt.title('Pearson Correlation coeff')\n",
    "plt.show()\n"
   ]
  },
  {
   "cell_type": "code",
   "execution_count": 83,
   "metadata": {},
   "outputs": [],
   "source": [
    "#Observations:\n",
    "   # 1. Observing above heat map we can say that the important factors in deciding overall rating of the beers are aroma(0.88) followeb by taste (0.82) , pallete (0.77) and appearance (0.64)\n"
   ]
  },
  {
   "cell_type": "raw",
   "metadata": {},
   "source": []
  },
  {
   "cell_type": "raw",
   "metadata": {},
   "source": [
    "#Q4 : If you were to recommend 3 beers to your friends based on this data which ones will you recommend?"
   ]
  },
  {
   "cell_type": "code",
   "execution_count": 84,
   "metadata": {},
   "outputs": [
    {
     "data": {
      "text/plain": [
       "Index(['index', 'beer_ABV', 'beer_beerId', 'beer_brewerId', 'beer_name',\n",
       "       'beer_style', 'review_appearance', 'review_palette', 'review_overall',\n",
       "       'review_taste', 'review_profileName', 'review_aroma', 'review_text',\n",
       "       'review_time'],\n",
       "      dtype='object')"
      ]
     },
     "execution_count": 84,
     "metadata": {},
     "output_type": "execute_result"
    }
   ],
   "source": [
    "data.columns"
   ]
  },
  {
   "cell_type": "code",
   "execution_count": 85,
   "metadata": {},
   "outputs": [],
   "source": [
    "#Chosing the relevant features to analyze"
   ]
  },
  {
   "cell_type": "code",
   "execution_count": 86,
   "metadata": {},
   "outputs": [],
   "source": [
    "recommedingdata=data[['beer_brewerId','beer_beerId','beer_name','beer_ABV','beer_style','review_overall']]"
   ]
  },
  {
   "cell_type": "code",
   "execution_count": 87,
   "metadata": {},
   "outputs": [],
   "source": [
    "# Counting the number of the reviews with respect to each beer\n"
   ]
  },
  {
   "cell_type": "code",
   "execution_count": 88,
   "metadata": {},
   "outputs": [],
   "source": [
    "recommedingdata['review_count']=recommedingdata.groupby(['beer_beerId'])['review_overall'].transform('count')"
   ]
  },
  {
   "cell_type": "code",
   "execution_count": 89,
   "metadata": {},
   "outputs": [
    {
     "data": {
      "text/plain": [
       "624.2821477991729"
      ]
     },
     "execution_count": 89,
     "metadata": {},
     "output_type": "execute_result"
    }
   ],
   "source": [
    "recommedingdata.review_count.mean()"
   ]
  },
  {
   "cell_type": "code",
   "execution_count": 90,
   "metadata": {},
   "outputs": [
    {
     "data": {
      "image/png": "[encoded data removed]",
      "text/plain": [
       "<Figure size 432x288 with 1 Axes>"
      ]
     },
     "metadata": {
      "needs_background": "light"
     },
     "output_type": "display_data"
    }
   ],
   "source": [
    "# Plotting Histogram to visualise the distribution review_count \n",
    "recommedingdata.review_count.hist(bins=50)\n",
    "plt.ylabel('Count')\n",
    "plt.show()"
   ]
  },
  {
   "cell_type": "code",
   "execution_count": 91,
   "metadata": {},
   "outputs": [
    {
     "data": {
      "text/plain": [
       "(503697, 7)"
      ]
     },
     "execution_count": 91,
     "metadata": {},
     "output_type": "execute_result"
    }
   ],
   "source": [
    "recommedingdata.shape"
   ]
  },
  {
   "cell_type": "code",
   "execution_count": 92,
   "metadata": {},
   "outputs": [],
   "source": [
    "#calculating mean review_overall value for each beer Id \n",
    "recommedingdata['review_overall_mean']=recommedingdata.groupby(['beer_beerId'])['review_overall'].transform('mean')"
   ]
  },
  {
   "cell_type": "code",
   "execution_count": 93,
   "metadata": {},
   "outputs": [],
   "source": [
    "#Considering 1/4 th of avg review count to filter\n",
    "filterrecommedingdata=recommedingdata[recommedingdata.review_count >=150]"
   ]
  },
  {
   "cell_type": "code",
   "execution_count": 94,
   "metadata": {},
   "outputs": [],
   "source": [
    "\n",
    "aggrfilterrecommedingdata=filterrecommedingdata.groupby('beer_beerId').head(1).sort_values('review_overall_mean',ascending=False)"
   ]
  },
  {
   "cell_type": "code",
   "execution_count": 95,
   "metadata": {},
   "outputs": [],
   "source": [
    "# The top 3 suggestions are as below"
   ]
  },
  {
   "cell_type": "code",
   "execution_count": 96,
   "metadata": {},
   "outputs": [
    {
     "data": {
      "text/html": [
       "<div>\n",
       "<style scoped>\n",
       "    .dataframe tbody tr th:only-of-type {\n",
       "        vertical-align: middle;\n",
       "    }\n",
       "\n",
       "    .dataframe tbody tr th {\n",
       "        vertical-align: top;\n",
       "    }\n",
       "\n",
       "    .dataframe thead th {\n",
       "        text-align: right;\n",
       "    }\n",
       "</style>\n",
       "<table border=\"1\" class=\"dataframe\">\n",
       "  <thead>\n",
       "    <tr style=\"text-align: right;\">\n",
       "      <th></th>\n",
       "      <th>beer_brewerId</th>\n",
       "      <th>beer_beerId</th>\n",
       "      <th>beer_name</th>\n",
       "      <th>beer_ABV</th>\n",
       "      <th>beer_style</th>\n",
       "      <th>review_overall</th>\n",
       "      <th>review_count</th>\n",
       "      <th>review_overall_mean</th>\n",
       "    </tr>\n",
       "  </thead>\n",
       "  <tbody>\n",
       "    <tr>\n",
       "      <th>334964</th>\n",
       "      <td>14064</td>\n",
       "      <td>56082</td>\n",
       "      <td>Citra DIPA</td>\n",
       "      <td>8.0</td>\n",
       "      <td>American Double / Imperial IPA</td>\n",
       "      <td>5.0</td>\n",
       "      <td>246</td>\n",
       "      <td>4.630081</td>\n",
       "    </tr>\n",
       "    <tr>\n",
       "      <th>484119</th>\n",
       "      <td>388</td>\n",
       "      <td>36316</td>\n",
       "      <td>Cantillon Bl�b�r Lambik</td>\n",
       "      <td>5.0</td>\n",
       "      <td>Lambic - Fruit</td>\n",
       "      <td>5.0</td>\n",
       "      <td>155</td>\n",
       "      <td>4.625806</td>\n",
       "    </tr>\n",
       "    <tr>\n",
       "      <th>378552</th>\n",
       "      <td>27039</td>\n",
       "      <td>16814</td>\n",
       "      <td>Heady Topper</td>\n",
       "      <td>8.0</td>\n",
       "      <td>American Double / Imperial IPA</td>\n",
       "      <td>5.0</td>\n",
       "      <td>443</td>\n",
       "      <td>4.623025</td>\n",
       "    </tr>\n",
       "  </tbody>\n",
       "</table>\n",
       "</div>"
      ],
      "text/plain": [
       "        beer_brewerId  beer_beerId                beer_name  beer_ABV  \\\n",
       "334964          14064        56082               Citra DIPA       8.0   \n",
       "484119            388        36316  Cantillon Bl�b�r Lambik       5.0   \n",
       "378552          27039        16814             Heady Topper       8.0   \n",
       "\n",
       "                            beer_style  review_overall  review_count  \\\n",
       "334964  American Double / Imperial IPA             5.0           246   \n",
       "484119                  Lambic - Fruit             5.0           155   \n",
       "378552  American Double / Imperial IPA             5.0           443   \n",
       "\n",
       "        review_overall_mean  \n",
       "334964             4.630081  \n",
       "484119             4.625806  \n",
       "378552             4.623025  "
      ]
     },
     "execution_count": 96,
     "metadata": {},
     "output_type": "execute_result"
    }
   ],
   "source": [
    "aggrfilterrecommedingdata.head(3)"
   ]
  },
  {
   "cell_type": "raw",
   "metadata": {},
   "source": []
  },
  {
   "cell_type": "raw",
   "metadata": {},
   "source": [
    "#Q5 : Which Beer style seems to be the favorite based on Reviews written by users? \n",
    "#Q6 :How does written review compare to overall review score for the beer style?\n"
   ]
  },
  {
   "cell_type": "code",
   "execution_count": 97,
   "metadata": {},
   "outputs": [
    {
     "data": {
      "text/plain": [
       "Index(['index', 'beer_ABV', 'beer_beerId', 'beer_brewerId', 'beer_name',\n",
       "       'beer_style', 'review_appearance', 'review_palette', 'review_overall',\n",
       "       'review_taste', 'review_profileName', 'review_aroma', 'review_text',\n",
       "       'review_time'],\n",
       "      dtype='object')"
      ]
     },
     "execution_count": 97,
     "metadata": {},
     "output_type": "execute_result"
    }
   ],
   "source": [
    "data.columns"
   ]
  },
  {
   "cell_type": "code",
   "execution_count": 98,
   "metadata": {},
   "outputs": [],
   "source": [
    "# Considering only relevant columns"
   ]
  },
  {
   "cell_type": "code",
   "execution_count": 99,
   "metadata": {},
   "outputs": [],
   "source": [
    "reviewTextData=data[['beer_beerId','beer_name','beer_ABV','beer_style','review_overall','review_text']]"
   ]
  },
  {
   "cell_type": "code",
   "execution_count": 100,
   "metadata": {},
   "outputs": [],
   "source": [
    "# lets consider the higher reviews only to calculate the polarity score of review_text and compare it with overall review"
   ]
  },
  {
   "cell_type": "code",
   "execution_count": 102,
   "metadata": {},
   "outputs": [],
   "source": [
    "reviewTextData=reviewTextData.loc[reviewTextData['review_overall'] >=4]"
   ]
  },
  {
   "cell_type": "code",
   "execution_count": 103,
   "metadata": {},
   "outputs": [],
   "source": [
    "#Resetting Index"
   ]
  },
  {
   "cell_type": "code",
   "execution_count": 104,
   "metadata": {},
   "outputs": [],
   "source": [
    "reviewTextData.reset_index(drop=True,inplace=True)"
   ]
  },
  {
   "cell_type": "code",
   "execution_count": 105,
   "metadata": {},
   "outputs": [
    {
     "data": {
      "text/html": [
       "<div>\n",
       "<style scoped>\n",
       "    .dataframe tbody tr th:only-of-type {\n",
       "        vertical-align: middle;\n",
       "    }\n",
       "\n",
       "    .dataframe tbody tr th {\n",
       "        vertical-align: top;\n",
       "    }\n",
       "\n",
       "    .dataframe thead th {\n",
       "        text-align: right;\n",
       "    }\n",
       "</style>\n",
       "<table border=\"1\" class=\"dataframe\">\n",
       "  <thead>\n",
       "    <tr style=\"text-align: right;\">\n",
       "      <th></th>\n",
       "      <th>beer_beerId</th>\n",
       "      <th>beer_name</th>\n",
       "      <th>beer_ABV</th>\n",
       "      <th>beer_style</th>\n",
       "      <th>review_overall</th>\n",
       "      <th>review_text</th>\n",
       "    </tr>\n",
       "  </thead>\n",
       "  <tbody>\n",
       "    <tr>\n",
       "      <th>0</th>\n",
       "      <td>1339</td>\n",
       "      <td>Hazelnut Brown Nectar</td>\n",
       "      <td>6.2</td>\n",
       "      <td>American Brown Ale</td>\n",
       "      <td>5.0</td>\n",
       "      <td>Served at ~15C. Gorgeous pour. Nut brown, slig...</td>\n",
       "    </tr>\n",
       "    <tr>\n",
       "      <th>1</th>\n",
       "      <td>689</td>\n",
       "      <td>Red Stripe Jamaican Lager</td>\n",
       "      <td>4.7</td>\n",
       "      <td>American Adjunct Lager</td>\n",
       "      <td>5.0</td>\n",
       "      <td>This beer is tops. The crisp, yet smooth taste...</td>\n",
       "    </tr>\n",
       "  </tbody>\n",
       "</table>\n",
       "</div>"
      ],
      "text/plain": [
       "   beer_beerId                  beer_name  beer_ABV              beer_style  \\\n",
       "0         1339      Hazelnut Brown Nectar       6.2      American Brown Ale   \n",
       "1          689  Red Stripe Jamaican Lager       4.7  American Adjunct Lager   \n",
       "\n",
       "   review_overall                                        review_text  \n",
       "0             5.0  Served at ~15C. Gorgeous pour. Nut brown, slig...  \n",
       "1             5.0  This beer is tops. The crisp, yet smooth taste...  "
      ]
     },
     "execution_count": 105,
     "metadata": {},
     "output_type": "execute_result"
    }
   ],
   "source": [
    "reviewTextData.head(2)"
   ]
  },
  {
   "cell_type": "code",
   "execution_count": 106,
   "metadata": {},
   "outputs": [],
   "source": [
    "# Printing some random reviews to observe the review text"
   ]
  },
  {
   "cell_type": "code",
   "execution_count": 107,
   "metadata": {},
   "outputs": [
    {
     "data": {
      "text/plain": [
       "\"Served at ~15C. Gorgeous pour. Nut brown, slightly reddish with a voluminous tan head that leaves lots of lace. Very clear. Smells odd - perhaps that's the hazelnut, but to me it just smells cardboardy and stale. There's biscuit, bready yeast, and roasty notes as well with a nice malty aroma holding things together. There's a light fruity hops note as well, very understated. Mouthfeel is very very good. Low-ish carbonation, no acrid zing. There's a definite nuttiness to it, nicely accented by sweet dark malt and baked bread flavours and some medium roast bitterness. Light floral hops in the background. Very very mellow, almost no bitterness. This stuff is dangerously smooth and easy to drink.\""
      ]
     },
     "execution_count": 107,
     "metadata": {},
     "output_type": "execute_result"
    }
   ],
   "source": [
    "reviewTextData.review_text[0]"
   ]
  },
  {
   "cell_type": "code",
   "execution_count": 108,
   "metadata": {},
   "outputs": [
    {
     "data": {
      "text/plain": [
       "\"This is truly an amazing brew! Pours opaque brown with a creamy light tan head that never goes away. Gorgeous!! Smells awesome! Pure dark malts and milk chocolate. The smell really makes you anticipate the taste. Taste doesn't dissapoint-Starts out sweet and choclatey, with a little raisin, then finishes up with a very pleasant hops and alcohol nip in the end. Mouthfeel is smooth, but not really thick...nice tho. Drinkability is crazy...You'd never know you were drinking a 7% brew untill you feel it. It's amazingly smooth. Yeah, I belive I'll have another!\""
      ]
     },
     "execution_count": 108,
     "metadata": {},
     "output_type": "execute_result"
    }
   ],
   "source": [
    "reviewTextData.review_text[492]"
   ]
  },
  {
   "cell_type": "code",
   "execution_count": 110,
   "metadata": {},
   "outputs": [],
   "source": [
    "#Text processing"
   ]
  },
  {
   "cell_type": "code",
   "execution_count": 111,
   "metadata": {},
   "outputs": [],
   "source": [
    "import re\n",
    "#Initial text processing to deconstruct the short forms\n"
   ]
  },
  {
   "cell_type": "code",
   "execution_count": 112,
   "metadata": {},
   "outputs": [],
   "source": [
    "def decontracted(phrase):\n",
    "    #specific\n",
    "    phrase = re.sub(r\"won't\", \"will not\", phrase)\n",
    "    phrase = re.sub(r\"can\\'t\", \"can not\", phrase)\n",
    "    #general\n",
    "    phrase = re.sub(r\"n\\'t\",\"not\",phrase)\n",
    "    phrase = re.sub(r\"\\'re\",\"are\",phrase)\n",
    "    phrase = re.sub(r\"\\'s\",\"is\", phrase)\n",
    "    phrase = re.sub(r\"\\'d\",\"would\",phrase)\n",
    "    phrase = re.sub(r\"\\'ll\",\"will\",phrase)\n",
    "    phrase = re.sub(r\"\\'t\" ,\"not\",phrase)\n",
    "    phrase = re.sub(r\"\\'ve\",\"have\",phrase)\n",
    "    phrase = re.sub(r\"\\'m\",\"am\",phrase)\n",
    "    \n",
    "    return phrase\n",
    "    \n"
   ]
  },
  {
   "cell_type": "code",
   "execution_count": 113,
   "metadata": {},
   "outputs": [
    {
     "name": "stderr",
     "output_type": "stream",
     "text": [
      "100%|██████████| 324711/324711 [00:53<00:00, 6013.52it/s]\n"
     ]
    }
   ],
   "source": [
    "#Extracting text reciews and applying text pre-processing on it.\n",
    "from tqdm import tqdm\n",
    "tqdm.pandas()\n",
    "preprocessed_reviews = []\n",
    "\n",
    "for sentence in tqdm(reviewTextData['review_text'].values):\n",
    "    sentence = decontracted(sentence)\n",
    "    sentence = re.sub(\"\\S*\\d\\S*\",\"\",sentence).strip()\n",
    "    preprocessed_reviews.append(sentence)"
   ]
  },
  {
   "cell_type": "raw",
   "metadata": {},
   "source": [
    "#Q6.How does written review compare to overall review score for the beer style?\n",
    "#Q7. How do find similar beer drinkers by using written reviews only?   \n"
   ]
  },
  {
   "cell_type": "code",
   "execution_count": 115,
   "metadata": {},
   "outputs": [
    {
     "data": {
      "text/plain": [
       "'Served at  Gorgeous pour. Nut brown, slightly reddish with a voluminous tan head that leaves lots of lace. Very clear. Smells odd - perhaps thatis the hazelnut, but to me it just smells cardboardy and stale. Thereis biscuit, bready yeast, and roasty notes as well with a nice malty aroma holding things together. Thereis a light fruity hops note as well, very understated. Mouthfeel is very very good. Low-ish carbonation, no acrid zing. Thereis a definite nuttiness to it, nicely accented by sweet dark malt and baked bread flavours and some medium roast bitterness. Light floral hops in the background. Very very mellow, almost no bitterness. This stuff is dangerously smooth and easy to drink.'"
      ]
     },
     "execution_count": 115,
     "metadata": {},
     "output_type": "execute_result"
    }
   ],
   "source": [
    "preprocessed_reviews[0]"
   ]
  },
  {
   "cell_type": "code",
   "execution_count": 116,
   "metadata": {},
   "outputs": [],
   "source": [
    "#Appending preprocessed reviews to the filtered dataframe\n",
    "\n",
    "reviewTextData['preprocessed_review_text'] = preprocessed_reviews"
   ]
  },
  {
   "cell_type": "code",
   "execution_count": 117,
   "metadata": {},
   "outputs": [
    {
     "data": {
      "text/plain": [
       "\"Served at ~15C. Gorgeous pour. Nut brown, slightly reddish with a voluminous tan head that leaves lots of lace. Very clear. Smells odd - perhaps that's the hazelnut, but to me it just smells cardboardy and stale. There's biscuit, bready yeast, and roasty notes as well with a nice malty aroma holding things together. There's a light fruity hops note as well, very understated. Mouthfeel is very very good. Low-ish carbonation, no acrid zing. There's a definite nuttiness to it, nicely accented by sweet dark malt and baked bread flavours and some medium roast bitterness. Light floral hops in the background. Very very mellow, almost no bitterness. This stuff is dangerously smooth and easy to drink.\""
      ]
     },
     "execution_count": 117,
     "metadata": {},
     "output_type": "execute_result"
    }
   ],
   "source": [
    "reviewTextData.review_text[0]"
   ]
  },
  {
   "cell_type": "code",
   "execution_count": 118,
   "metadata": {},
   "outputs": [
    {
     "name": "stderr",
     "output_type": "stream",
     "text": [
      "[nltk_data] Downloading package vader_lexicon to\n",
      "[nltk_data]     /home/prerna/nltk_data...\n",
      "[nltk_data]   Package vader_lexicon is already up-to-date!\n"
     ]
    }
   ],
   "source": [
    "# text analysis\n",
    "\n",
    "import nltk\n",
    "nltk.download('vader_lexicon')\n",
    "from nltk.sentiment.vader import SentimentIntensityAnalyzer"
   ]
  },
  {
   "cell_type": "code",
   "execution_count": 119,
   "metadata": {},
   "outputs": [],
   "source": [
    "# Instantiating Sentiment Analyzer\n",
    "sentianalyzer = SentimentIntensityAnalyzer()"
   ]
  },
  {
   "cell_type": "code",
   "execution_count": 120,
   "metadata": {},
   "outputs": [
    {
     "name": "stderr",
     "output_type": "stream",
     "text": [
      "100%|██████████| 324711/324711 [13:43<00:00, 394.08it/s]\n"
     ]
    }
   ],
   "source": [
    "#loop over the 'preprocessed_review_text' column and calculate the polarity score for each review.\n",
    "reviewTextData['polarity_score2'] = reviewTextData['preprocessed_review_text'].progress_apply(lambda x: sentianalyzer.polarity_scores(x)['compound'])"
   ]
  },
  {
   "cell_type": "code",
   "execution_count": 121,
   "metadata": {},
   "outputs": [],
   "source": [
    "# Groupping by the 'beer_beerId' and calculate mean polarity score.\n",
    "reviewTextDataGroupped=reviewTextData.groupby('beer_style')['polarity_score2'].mean()"
   ]
  },
  {
   "cell_type": "code",
   "execution_count": 122,
   "metadata": {},
   "outputs": [
    {
     "data": {
      "text/plain": [
       "beer_style\n",
       "Braggot                      0.919511\n",
       "Dortmunder / Export Lager    0.907794\n",
       "Faro                         0.906364\n",
       "Wheatwine                    0.896502\n",
       "American Wild Ale            0.894399\n",
       "Name: polarity_score2, dtype: float64"
      ]
     },
     "execution_count": 122,
     "metadata": {},
     "output_type": "execute_result"
    }
   ],
   "source": [
    "# Lets Sort the groupped data by mean polarity score\n",
    "reviewTextDataGroupped.sort_values(ascending=False)[0:5]"
   ]
  },
  {
   "cell_type": "code",
   "execution_count": 123,
   "metadata": {},
   "outputs": [
    {
     "data": {
      "text/html": [
       "<div>\n",
       "<style scoped>\n",
       "    .dataframe tbody tr th:only-of-type {\n",
       "        vertical-align: middle;\n",
       "    }\n",
       "\n",
       "    .dataframe tbody tr th {\n",
       "        vertical-align: top;\n",
       "    }\n",
       "\n",
       "    .dataframe thead th {\n",
       "        text-align: right;\n",
       "    }\n",
       "</style>\n",
       "<table border=\"1\" class=\"dataframe\">\n",
       "  <thead>\n",
       "    <tr style=\"text-align: right;\">\n",
       "      <th></th>\n",
       "      <th>beer_beerId</th>\n",
       "      <th>beer_name</th>\n",
       "      <th>beer_ABV</th>\n",
       "      <th>beer_style</th>\n",
       "      <th>review_overall</th>\n",
       "      <th>review_text</th>\n",
       "      <th>preprocessed_review_text</th>\n",
       "      <th>polarity_score2</th>\n",
       "    </tr>\n",
       "  </thead>\n",
       "  <tbody>\n",
       "    <tr>\n",
       "      <th>18454</th>\n",
       "      <td>5972</td>\n",
       "      <td>Luna De Miel: Raspberry Meade</td>\n",
       "      <td>7.82</td>\n",
       "      <td>Braggot</td>\n",
       "      <td>5.0</td>\n",
       "      <td>750 ml crowned bottle. I bought this with no i...</td>\n",
       "      <td>ml crowned bottle. I bought this with no idea ...</td>\n",
       "      <td>0.7864</td>\n",
       "    </tr>\n",
       "    <tr>\n",
       "      <th>19650</th>\n",
       "      <td>69407</td>\n",
       "      <td>Sixteen</td>\n",
       "      <td>10.50</td>\n",
       "      <td>Braggot</td>\n",
       "      <td>5.0</td>\n",
       "      <td>Weyerbacher Sixteen on tap at The Pony Bar, HK...</td>\n",
       "      <td>Weyerbacher Sixteen on tap at The Pony Bar, HK...</td>\n",
       "      <td>0.9974</td>\n",
       "    </tr>\n",
       "    <tr>\n",
       "      <th>19654</th>\n",
       "      <td>69407</td>\n",
       "      <td>Sixteen</td>\n",
       "      <td>10.50</td>\n",
       "      <td>Braggot</td>\n",
       "      <td>5.0</td>\n",
       "      <td>Now this is an awesome beer/mead combo!! A-Dee...</td>\n",
       "      <td>Now this is an awesome beer/mead combo!! A-Dee...</td>\n",
       "      <td>0.9801</td>\n",
       "    </tr>\n",
       "    <tr>\n",
       "      <th>34396</th>\n",
       "      <td>55238</td>\n",
       "      <td>Apico</td>\n",
       "      <td>16.30</td>\n",
       "      <td>Braggot</td>\n",
       "      <td>4.5</td>\n",
       "      <td>Kept seeing this in various beer stores but di...</td>\n",
       "      <td>Kept seeing this in various beer stores but di...</td>\n",
       "      <td>0.9770</td>\n",
       "    </tr>\n",
       "    <tr>\n",
       "      <th>77398</th>\n",
       "      <td>69407</td>\n",
       "      <td>Sixteen</td>\n",
       "      <td>10.50</td>\n",
       "      <td>Braggot</td>\n",
       "      <td>4.5</td>\n",
       "      <td>A - Dark brown with ruby accent. Smallish head...</td>\n",
       "      <td>A - Dark brown with ruby accent. Smallish head...</td>\n",
       "      <td>0.9815</td>\n",
       "    </tr>\n",
       "    <tr>\n",
       "      <th>...</th>\n",
       "      <td>...</td>\n",
       "      <td>...</td>\n",
       "      <td>...</td>\n",
       "      <td>...</td>\n",
       "      <td>...</td>\n",
       "      <td>...</td>\n",
       "      <td>...</td>\n",
       "      <td>...</td>\n",
       "    </tr>\n",
       "    <tr>\n",
       "      <th>250357</th>\n",
       "      <td>5972</td>\n",
       "      <td>Luna De Miel: Raspberry Meade</td>\n",
       "      <td>7.82</td>\n",
       "      <td>Braggot</td>\n",
       "      <td>4.0</td>\n",
       "      <td>Luna de Miel - Harmonious Honeymoon Ale - is q...</td>\n",
       "      <td>Luna de Miel - Harmonious Honeymoon Ale - is q...</td>\n",
       "      <td>0.9902</td>\n",
       "    </tr>\n",
       "    <tr>\n",
       "      <th>274700</th>\n",
       "      <td>23369</td>\n",
       "      <td>Hawaiian Honey</td>\n",
       "      <td>13.00</td>\n",
       "      <td>Braggot</td>\n",
       "      <td>4.0</td>\n",
       "      <td>Sampled on-tap at the brewpub. 90 lbs of clove...</td>\n",
       "      <td>Sampled on-tap at the brewpub.  lbs of clover ...</td>\n",
       "      <td>0.6712</td>\n",
       "    </tr>\n",
       "    <tr>\n",
       "      <th>321926</th>\n",
       "      <td>50450</td>\n",
       "      <td>Bob's Memorial Braggot</td>\n",
       "      <td>7.00</td>\n",
       "      <td>Braggot</td>\n",
       "      <td>4.0</td>\n",
       "      <td>Served in Deschuttes Brewery's stemmed Jubel 2...</td>\n",
       "      <td>Served in Deschuttes Breweryis stemmed Jubel  ...</td>\n",
       "      <td>0.9433</td>\n",
       "    </tr>\n",
       "    <tr>\n",
       "      <th>321934</th>\n",
       "      <td>50450</td>\n",
       "      <td>Bob's Memorial Braggot</td>\n",
       "      <td>7.00</td>\n",
       "      <td>Braggot</td>\n",
       "      <td>4.0</td>\n",
       "      <td>This beer appears reddish brown with a small l...</td>\n",
       "      <td>This beer appears reddish brown with a small l...</td>\n",
       "      <td>0.8945</td>\n",
       "    </tr>\n",
       "    <tr>\n",
       "      <th>321940</th>\n",
       "      <td>50450</td>\n",
       "      <td>Bob's Memorial Braggot</td>\n",
       "      <td>7.00</td>\n",
       "      <td>Braggot</td>\n",
       "      <td>4.0</td>\n",
       "      <td>Bomber poured into my Delirium snifter Bob's M...</td>\n",
       "      <td>Bomber poured into my Delirium snifter Bobis M...</td>\n",
       "      <td>0.9951</td>\n",
       "    </tr>\n",
       "  </tbody>\n",
       "</table>\n",
       "<p>105 rows × 8 columns</p>\n",
       "</div>"
      ],
      "text/plain": [
       "        beer_beerId                      beer_name  beer_ABV beer_style  \\\n",
       "18454          5972  Luna De Miel: Raspberry Meade      7.82    Braggot   \n",
       "19650         69407                        Sixteen     10.50    Braggot   \n",
       "19654         69407                        Sixteen     10.50    Braggot   \n",
       "34396         55238                          Apico     16.30    Braggot   \n",
       "77398         69407                        Sixteen     10.50    Braggot   \n",
       "...             ...                            ...       ...        ...   \n",
       "250357         5972  Luna De Miel: Raspberry Meade      7.82    Braggot   \n",
       "274700        23369                 Hawaiian Honey     13.00    Braggot   \n",
       "321926        50450         Bob's Memorial Braggot      7.00    Braggot   \n",
       "321934        50450         Bob's Memorial Braggot      7.00    Braggot   \n",
       "321940        50450         Bob's Memorial Braggot      7.00    Braggot   \n",
       "\n",
       "        review_overall                                        review_text  \\\n",
       "18454              5.0  750 ml crowned bottle. I bought this with no i...   \n",
       "19650              5.0  Weyerbacher Sixteen on tap at The Pony Bar, HK...   \n",
       "19654              5.0  Now this is an awesome beer/mead combo!! A-Dee...   \n",
       "34396              4.5  Kept seeing this in various beer stores but di...   \n",
       "77398              4.5  A - Dark brown with ruby accent. Smallish head...   \n",
       "...                ...                                                ...   \n",
       "250357             4.0  Luna de Miel - Harmonious Honeymoon Ale - is q...   \n",
       "274700             4.0  Sampled on-tap at the brewpub. 90 lbs of clove...   \n",
       "321926             4.0  Served in Deschuttes Brewery's stemmed Jubel 2...   \n",
       "321934             4.0  This beer appears reddish brown with a small l...   \n",
       "321940             4.0  Bomber poured into my Delirium snifter Bob's M...   \n",
       "\n",
       "                                 preprocessed_review_text  polarity_score2  \n",
       "18454   ml crowned bottle. I bought this with no idea ...           0.7864  \n",
       "19650   Weyerbacher Sixteen on tap at The Pony Bar, HK...           0.9974  \n",
       "19654   Now this is an awesome beer/mead combo!! A-Dee...           0.9801  \n",
       "34396   Kept seeing this in various beer stores but di...           0.9770  \n",
       "77398   A - Dark brown with ruby accent. Smallish head...           0.9815  \n",
       "...                                                   ...              ...  \n",
       "250357  Luna de Miel - Harmonious Honeymoon Ale - is q...           0.9902  \n",
       "274700  Sampled on-tap at the brewpub.  lbs of clover ...           0.6712  \n",
       "321926  Served in Deschuttes Breweryis stemmed Jubel  ...           0.9433  \n",
       "321934  This beer appears reddish brown with a small l...           0.8945  \n",
       "321940  Bomber poured into my Delirium snifter Bobis M...           0.9951  \n",
       "\n",
       "[105 rows x 8 columns]"
      ]
     },
     "execution_count": 123,
     "metadata": {},
     "output_type": "execute_result"
    }
   ],
   "source": [
    "# Obsering the top 'polarity_score2' and 'beer_beerId' associated with it\n",
    "reviewTextData.loc[reviewTextData['beer_style'] == 'Braggot']"
   ]
  },
  {
   "cell_type": "code",
   "execution_count": 124,
   "metadata": {},
   "outputs": [],
   "source": [
    "#observation\n",
    "   # 1. By Observing the mean compund ploarity score , we can say that the beer style \"Braggot\" is quite most famous.\n",
    "   # 2. By Observing the mean compund ploarity score calculated we can get an idea how the user written review text is collaborating in calculating the overall review score.\n"
   ]
  },
  {
   "cell_type": "code",
   "execution_count": null,
   "metadata": {},
   "outputs": [],
   "source": [
    "# Obsering the top 'polarity_score2' and 'beer_beerId' associated with it\n",
    "reviewTextData.loc[reviewTextData['beer_'] == 'Braggot'] "
   ]
  },
  {
   "cell_type": "code",
   "execution_count": 125,
   "metadata": {},
   "outputs": [
    {
     "data": {
      "text/html": [
       "<div>\n",
       "<style scoped>\n",
       "    .dataframe tbody tr th:only-of-type {\n",
       "        vertical-align: middle;\n",
       "    }\n",
       "\n",
       "    .dataframe tbody tr th {\n",
       "        vertical-align: top;\n",
       "    }\n",
       "\n",
       "    .dataframe thead th {\n",
       "        text-align: right;\n",
       "    }\n",
       "</style>\n",
       "<table border=\"1\" class=\"dataframe\">\n",
       "  <thead>\n",
       "    <tr style=\"text-align: right;\">\n",
       "      <th></th>\n",
       "      <th>beer_name</th>\n",
       "      <th>review_text</th>\n",
       "      <th>review_overall</th>\n",
       "    </tr>\n",
       "  </thead>\n",
       "  <tbody>\n",
       "    <tr>\n",
       "      <th>0</th>\n",
       "      <td>1554 Enlightened Black Ale</td>\n",
       "      <td>#NAME?</td>\n",
       "      <td>12.0</td>\n",
       "    </tr>\n",
       "    <tr>\n",
       "      <th>1</th>\n",
       "      <td>Black Tuesday</td>\n",
       "      <td>750ml bottle purchased at the Bruery release o...</td>\n",
       "      <td>10.0</td>\n",
       "    </tr>\n",
       "    <tr>\n",
       "      <th>2</th>\n",
       "      <td>Cornballer</td>\n",
       "      <td>Looks like typical malt liquor, yellow, no hea...</td>\n",
       "      <td>9.5</td>\n",
       "    </tr>\n",
       "    <tr>\n",
       "      <th>3</th>\n",
       "      <td>Sierra Nevada Celebration Ale</td>\n",
       "      <td>Appearance: Beautiful orange/copper with a nic...</td>\n",
       "      <td>9.5</td>\n",
       "    </tr>\n",
       "    <tr>\n",
       "      <th>4</th>\n",
       "      <td>La Fin Du Monde</td>\n",
       "      <td>The clear light golden / dark straw hued brew ...</td>\n",
       "      <td>9.5</td>\n",
       "    </tr>\n",
       "    <tr>\n",
       "      <th>...</th>\n",
       "      <td>...</td>\n",
       "      <td>...</td>\n",
       "      <td>...</td>\n",
       "    </tr>\n",
       "    <tr>\n",
       "      <th>324637</th>\n",
       "      <td>Imperial Stout</td>\n",
       "      <td>A: Pours opaque black. No light gets through a...</td>\n",
       "      <td>4.0</td>\n",
       "    </tr>\n",
       "    <tr>\n",
       "      <th>324638</th>\n",
       "      <td>Imperial Stout</td>\n",
       "      <td>A: poured a dark as night black with a half fi...</td>\n",
       "      <td>4.0</td>\n",
       "    </tr>\n",
       "    <tr>\n",
       "      <th>324639</th>\n",
       "      <td>Imperial Stout</td>\n",
       "      <td>ABV on tap was reported as 9.7%, slightly weak...</td>\n",
       "      <td>4.0</td>\n",
       "    </tr>\n",
       "    <tr>\n",
       "      <th>324640</th>\n",
       "      <td>Imperial Stout</td>\n",
       "      <td>After all the bitching and moaning about the c...</td>\n",
       "      <td>4.0</td>\n",
       "    </tr>\n",
       "    <tr>\n",
       "      <th>324641</th>\n",
       "      <td>��ambereck� Kanec Imperial Stout</td>\n",
       "      <td>This is a very dark stout with a smallish ligh...</td>\n",
       "      <td>4.0</td>\n",
       "    </tr>\n",
       "  </tbody>\n",
       "</table>\n",
       "<p>324642 rows × 3 columns</p>\n",
       "</div>"
      ],
      "text/plain": [
       "                               beer_name  \\\n",
       "0             1554 Enlightened Black Ale   \n",
       "1                          Black Tuesday   \n",
       "2                             Cornballer   \n",
       "3          Sierra Nevada Celebration Ale   \n",
       "4                        La Fin Du Monde   \n",
       "...                                  ...   \n",
       "324637                    Imperial Stout   \n",
       "324638                    Imperial Stout   \n",
       "324639                    Imperial Stout   \n",
       "324640                    Imperial Stout   \n",
       "324641  ��ambereck� Kanec Imperial Stout   \n",
       "\n",
       "                                              review_text  review_overall  \n",
       "0                                                  #NAME?            12.0  \n",
       "1       750ml bottle purchased at the Bruery release o...            10.0  \n",
       "2       Looks like typical malt liquor, yellow, no hea...             9.5  \n",
       "3       Appearance: Beautiful orange/copper with a nic...             9.5  \n",
       "4       The clear light golden / dark straw hued brew ...             9.5  \n",
       "...                                                   ...             ...  \n",
       "324637  A: Pours opaque black. No light gets through a...             4.0  \n",
       "324638  A: poured a dark as night black with a half fi...             4.0  \n",
       "324639  ABV on tap was reported as 9.7%, slightly weak...             4.0  \n",
       "324640  After all the bitching and moaning about the c...             4.0  \n",
       "324641  This is a very dark stout with a smallish ligh...             4.0  \n",
       "\n",
       "[324642 rows x 3 columns]"
      ]
     },
     "execution_count": 125,
     "metadata": {},
     "output_type": "execute_result"
    }
   ],
   "source": [
    "data1 = reviewTextData.groupby(['beer_name','review_text'])[['review_overall']].sum().sort_values('review_overall',ascending = False).reset_index()\n",
    "data1"
   ]
  },
  {
   "cell_type": "code",
   "execution_count": 126,
   "metadata": {},
   "outputs": [
    {
     "data": {
      "text/html": [
       "<div>\n",
       "<style scoped>\n",
       "    .dataframe tbody tr th:only-of-type {\n",
       "        vertical-align: middle;\n",
       "    }\n",
       "\n",
       "    .dataframe tbody tr th {\n",
       "        vertical-align: top;\n",
       "    }\n",
       "\n",
       "    .dataframe thead th {\n",
       "        text-align: right;\n",
       "    }\n",
       "</style>\n",
       "<table border=\"1\" class=\"dataframe\">\n",
       "  <thead>\n",
       "    <tr style=\"text-align: right;\">\n",
       "      <th></th>\n",
       "      <th>beer_name</th>\n",
       "      <th>review_text</th>\n",
       "      <th>review_overall</th>\n",
       "    </tr>\n",
       "  </thead>\n",
       "  <tbody>\n",
       "    <tr>\n",
       "      <th>1</th>\n",
       "      <td>Black Tuesday</td>\n",
       "      <td>750ml bottle purchased at the Bruery release o...</td>\n",
       "      <td>10.0</td>\n",
       "    </tr>\n",
       "    <tr>\n",
       "      <th>2</th>\n",
       "      <td>Cornballer</td>\n",
       "      <td>Looks like typical malt liquor, yellow, no hea...</td>\n",
       "      <td>9.5</td>\n",
       "    </tr>\n",
       "    <tr>\n",
       "      <th>3</th>\n",
       "      <td>Sierra Nevada Celebration Ale</td>\n",
       "      <td>Appearance: Beautiful orange/copper with a nic...</td>\n",
       "      <td>9.5</td>\n",
       "    </tr>\n",
       "    <tr>\n",
       "      <th>4</th>\n",
       "      <td>La Fin Du Monde</td>\n",
       "      <td>The clear light golden / dark straw hued brew ...</td>\n",
       "      <td>9.5</td>\n",
       "    </tr>\n",
       "    <tr>\n",
       "      <th>5</th>\n",
       "      <td>Samuel Smith's Organic Strawberry Fruit Beer</td>\n",
       "      <td>I was mildly skeptical of this ale's fruity pr...</td>\n",
       "      <td>9.5</td>\n",
       "    </tr>\n",
       "  </tbody>\n",
       "</table>\n",
       "</div>"
      ],
      "text/plain": [
       "                                      beer_name  \\\n",
       "1                                 Black Tuesday   \n",
       "2                                    Cornballer   \n",
       "3                 Sierra Nevada Celebration Ale   \n",
       "4                               La Fin Du Monde   \n",
       "5  Samuel Smith's Organic Strawberry Fruit Beer   \n",
       "\n",
       "                                         review_text  review_overall  \n",
       "1  750ml bottle purchased at the Bruery release o...            10.0  \n",
       "2  Looks like typical malt liquor, yellow, no hea...             9.5  \n",
       "3  Appearance: Beautiful orange/copper with a nic...             9.5  \n",
       "4  The clear light golden / dark straw hued brew ...             9.5  \n",
       "5  I was mildly skeptical of this ale's fruity pr...             9.5  "
      ]
     },
     "execution_count": 126,
     "metadata": {},
     "output_type": "execute_result"
    }
   ],
   "source": [
    "data1.loc[data1.review_text != '#NAME?'].head(5)"
   ]
  }
 ],
 "metadata": {
  "kernelspec": {
   "display_name": "Python 3",
   "language": "python",
   "name": "python3"
  },
  "language_info": {
   "codemirror_mode": {
    "name": "ipython",
    "version": 3
   },
   "file_extension": ".py",
   "mimetype": "text/x-python",
   "name": "python",
   "nbconvert_exporter": "python",
   "pygments_lexer": "ipython3",
   "version": "3.8.3"
  }
 },
 "nbformat": 4,
 "nbformat_minor": 4
}
